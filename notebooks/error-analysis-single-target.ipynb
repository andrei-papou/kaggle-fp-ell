{
 "cells": [
  {
   "cell_type": "code",
   "execution_count": 1,
   "metadata": {},
   "outputs": [],
   "source": [
    "import math\n",
    "import typing as t\n",
    "from pathlib import Path\n",
    "\n",
    "import kaggle_toolbox.features.transform as feature_transforms\n",
    "import numpy as np\n",
    "import pandas as pd\n",
    "import seaborn as sns\n",
    "from iterstrat.ml_stratifiers import MultilabelStratifiedKFold\n",
    "from kaggle_toolbox.validation import analyze_val_strategy\n",
    "\n",
    "sns.set_context(\n",
    "    'notebook',\n",
    "    font_scale=0.75,\n",
    "    # rc={'figure.figsize':(4.0, 3.5)},\n",
    ")"
   ]
  },
  {
   "cell_type": "code",
   "execution_count": 2,
   "metadata": {},
   "outputs": [],
   "source": [
    "TARGET_LIST = [\n",
    "    'cohesion',\n",
    "    'syntax',\n",
    "    'vocabulary',\n",
    "    'phraseology',\n",
    "    'grammar',\n",
    "    'conventions',\n",
    "]\n",
    "NUM_FOLDS = 5\n",
    "\n",
    "ROOT_DIR = Path('/kaggle')\n",
    "DATA_DIR = ROOT_DIR / 'data'\n",
    "FP_ELL_DATASET_DIR = DATA_DIR / 'fp-ell'\n",
    "OOF_DIR = ROOT_DIR / 'oof'\n",
    "\n",
    "TARGET_TO_LVL1_OOF_PATH_DICT = {\n",
    "    'cohesion': OOF_DIR / 'cohesion-v1-layer_norm-ep_4-valfreq_0p25-pooler_att-full.csv',\n",
    "    'syntax': OOF_DIR / 'syntax-v1-layer_norm-ep_3-valfreq_0p25-full.csv',\n",
    "    'vocabulary': OOF_DIR / 'vocabulary-v1-layer_norm-ep_3-valfreq_0p25-std_init.csv',\n",
    "    'phraseology': OOF_DIR / 'phraseology-v1-layer_norm-ep_3-valfreq_0p25-std_init-full.csv',\n",
    "    'grammar': OOF_DIR / 'grammar-v1-lnorm-ep_4-valfreq_0p25-sqzr_cat_9_to_12-full.csv',\n",
    "    'conventions': OOF_DIR / 'conventions-v1-layer_norm-ep_3-valfreq_0p25-full.csv',\n",
    "}"
   ]
  },
  {
   "cell_type": "code",
   "execution_count": 4,
   "metadata": {},
   "outputs": [
    {
     "name": "stdout",
     "output_type": "stream",
     "text": [
      "Total `train_df` rows = 3911\n"
     ]
    },
    {
     "data": {
      "text/html": [
       "<div>\n",
       "<style scoped>\n",
       "    .dataframe tbody tr th:only-of-type {\n",
       "        vertical-align: middle;\n",
       "    }\n",
       "\n",
       "    .dataframe tbody tr th {\n",
       "        vertical-align: top;\n",
       "    }\n",
       "\n",
       "    .dataframe thead th {\n",
       "        text-align: right;\n",
       "    }\n",
       "</style>\n",
       "<table border=\"1\" class=\"dataframe\">\n",
       "  <thead>\n",
       "    <tr style=\"text-align: right;\">\n",
       "      <th></th>\n",
       "      <th>fold</th>\n",
       "      <th>num_samples</th>\n",
       "      <th>cohesion_mean</th>\n",
       "      <th>syntax_mean</th>\n",
       "      <th>vocabulary_mean</th>\n",
       "      <th>phraseology_mean</th>\n",
       "      <th>grammar_mean</th>\n",
       "      <th>conventions_mean</th>\n",
       "    </tr>\n",
       "  </thead>\n",
       "  <tbody>\n",
       "    <tr>\n",
       "      <th>0</th>\n",
       "      <td>0</td>\n",
       "      <td>782</td>\n",
       "      <td>3.077366</td>\n",
       "      <td>2.971867</td>\n",
       "      <td>3.205243</td>\n",
       "      <td>3.065857</td>\n",
       "      <td>2.959719</td>\n",
       "      <td>3.035166</td>\n",
       "    </tr>\n",
       "    <tr>\n",
       "      <th>1</th>\n",
       "      <td>1</td>\n",
       "      <td>783</td>\n",
       "      <td>3.125160</td>\n",
       "      <td>3.007024</td>\n",
       "      <td>3.226054</td>\n",
       "      <td>3.111111</td>\n",
       "      <td>3.015964</td>\n",
       "      <td>3.079183</td>\n",
       "    </tr>\n",
       "    <tr>\n",
       "      <th>2</th>\n",
       "      <td>2</td>\n",
       "      <td>782</td>\n",
       "      <td>3.140665</td>\n",
       "      <td>3.068414</td>\n",
       "      <td>3.258312</td>\n",
       "      <td>3.138747</td>\n",
       "      <td>3.069693</td>\n",
       "      <td>3.116368</td>\n",
       "    </tr>\n",
       "    <tr>\n",
       "      <th>3</th>\n",
       "      <td>3</td>\n",
       "      <td>782</td>\n",
       "      <td>3.131074</td>\n",
       "      <td>3.048593</td>\n",
       "      <td>3.245524</td>\n",
       "      <td>3.125959</td>\n",
       "      <td>3.042839</td>\n",
       "      <td>3.074169</td>\n",
       "    </tr>\n",
       "    <tr>\n",
       "      <th>4</th>\n",
       "      <td>4</td>\n",
       "      <td>782</td>\n",
       "      <td>3.161125</td>\n",
       "      <td>3.045396</td>\n",
       "      <td>3.243606</td>\n",
       "      <td>3.142583</td>\n",
       "      <td>3.076087</td>\n",
       "      <td>3.100384</td>\n",
       "    </tr>\n",
       "  </tbody>\n",
       "</table>\n",
       "</div>"
      ],
      "text/plain": [
       "   fold  num_samples  cohesion_mean  syntax_mean  vocabulary_mean  \\\n",
       "0     0          782       3.077366     2.971867         3.205243   \n",
       "1     1          783       3.125160     3.007024         3.226054   \n",
       "2     2          782       3.140665     3.068414         3.258312   \n",
       "3     3          782       3.131074     3.048593         3.245524   \n",
       "4     4          782       3.161125     3.045396         3.243606   \n",
       "\n",
       "   phraseology_mean  grammar_mean  conventions_mean  \n",
       "0          3.065857      2.959719          3.035166  \n",
       "1          3.111111      3.015964          3.079183  \n",
       "2          3.138747      3.069693          3.116368  \n",
       "3          3.125959      3.042839          3.074169  \n",
       "4          3.142583      3.076087          3.100384  "
      ]
     },
     "execution_count": 4,
     "metadata": {},
     "output_type": "execute_result"
    }
   ],
   "source": [
    "def _load_data(\n",
    "        train_csv_path: Path,\n",
    "        target_to_lvl1_off_path_dict: t.Dict[str, Path],\n",
    "        target_list: t.List[str]) -> pd.DataFrame:\n",
    "    train_df = pd.read_csv(train_csv_path)\n",
    "\n",
    "    target_arr = feature_transforms.contiguous_to_categorical(train_df[target_list].values)\n",
    "\n",
    "    mskf = MultilabelStratifiedKFold(n_splits=NUM_FOLDS, shuffle=True, random_state=42)\n",
    "    for fold_, (_, v_) in enumerate(mskf.split(X=train_df, y=target_arr)):\n",
    "        train_df.loc[v_, 'fold'] = fold_\n",
    "\n",
    "    print(f'Total `train_df` rows = {len(train_df)}')\n",
    "\n",
    "    for target in target_list:\n",
    "        score_df = pd.read_csv(target_to_lvl1_off_path_dict[target]).rename({'id': 'text_id'}, axis=1)\n",
    "        train_df = train_df.merge(score_df, left_on='text_id', right_on='text_id')\n",
    "        train_df[f'{target}_error'] = (train_df[target] - train_df[f'{target}_score']).abs()\n",
    "\n",
    "    return train_df\n",
    "\n",
    "\n",
    "score_df = _load_data(\n",
    "    train_csv_path=FP_ELL_DATASET_DIR / 'train.csv',\n",
    "    target_to_lvl1_off_path_dict=TARGET_TO_LVL1_OOF_PATH_DICT,\n",
    "    target_list=TARGET_LIST)\n",
    "\n",
    "analyze_val_strategy(score_df, target_list=TARGET_LIST, num_folds=NUM_FOLDS)"
   ]
  },
  {
   "cell_type": "code",
   "execution_count": 6,
   "metadata": {},
   "outputs": [
    {
     "data": {
      "text/html": [
       "<div>\n",
       "<style scoped>\n",
       "    .dataframe tbody tr th:only-of-type {\n",
       "        vertical-align: middle;\n",
       "    }\n",
       "\n",
       "    .dataframe tbody tr th {\n",
       "        vertical-align: top;\n",
       "    }\n",
       "\n",
       "    .dataframe thead th {\n",
       "        text-align: right;\n",
       "    }\n",
       "</style>\n",
       "<table border=\"1\" class=\"dataframe\">\n",
       "  <thead>\n",
       "    <tr style=\"text-align: right;\">\n",
       "      <th></th>\n",
       "      <th>text_id</th>\n",
       "      <th>full_text</th>\n",
       "      <th>cohesion</th>\n",
       "      <th>syntax</th>\n",
       "      <th>vocabulary</th>\n",
       "      <th>phraseology</th>\n",
       "      <th>grammar</th>\n",
       "      <th>conventions</th>\n",
       "      <th>fold</th>\n",
       "      <th>cohesion_score</th>\n",
       "      <th>...</th>\n",
       "      <th>syntax_score</th>\n",
       "      <th>syntax_error</th>\n",
       "      <th>vocabulary_score</th>\n",
       "      <th>vocabulary_error</th>\n",
       "      <th>phraseology_score</th>\n",
       "      <th>phraseology_error</th>\n",
       "      <th>grammar_score</th>\n",
       "      <th>grammar_error</th>\n",
       "      <th>conventions_score</th>\n",
       "      <th>conventions_error</th>\n",
       "    </tr>\n",
       "  </thead>\n",
       "  <tbody>\n",
       "    <tr>\n",
       "      <th>0</th>\n",
       "      <td>0016926B079C</td>\n",
       "      <td>I think that students would benefit from learn...</td>\n",
       "      <td>3.5</td>\n",
       "      <td>3.5</td>\n",
       "      <td>3.0</td>\n",
       "      <td>3.0</td>\n",
       "      <td>4.0</td>\n",
       "      <td>3.0</td>\n",
       "      <td>1.0</td>\n",
       "      <td>2.855740</td>\n",
       "      <td>...</td>\n",
       "      <td>2.950954</td>\n",
       "      <td>0.549046</td>\n",
       "      <td>3.219144</td>\n",
       "      <td>0.219144</td>\n",
       "      <td>3.222088</td>\n",
       "      <td>0.222088</td>\n",
       "      <td>3.093439</td>\n",
       "      <td>0.906561</td>\n",
       "      <td>2.753647</td>\n",
       "      <td>0.246353</td>\n",
       "    </tr>\n",
       "    <tr>\n",
       "      <th>1</th>\n",
       "      <td>0022683E9EA5</td>\n",
       "      <td>When a problem is a change you have to let it ...</td>\n",
       "      <td>2.5</td>\n",
       "      <td>2.5</td>\n",
       "      <td>3.0</td>\n",
       "      <td>2.0</td>\n",
       "      <td>2.0</td>\n",
       "      <td>2.5</td>\n",
       "      <td>0.0</td>\n",
       "      <td>2.784366</td>\n",
       "      <td>...</td>\n",
       "      <td>2.648692</td>\n",
       "      <td>0.148692</td>\n",
       "      <td>2.870578</td>\n",
       "      <td>0.129422</td>\n",
       "      <td>2.740792</td>\n",
       "      <td>0.740792</td>\n",
       "      <td>2.370473</td>\n",
       "      <td>0.370473</td>\n",
       "      <td>2.674716</td>\n",
       "      <td>0.174716</td>\n",
       "    </tr>\n",
       "    <tr>\n",
       "      <th>2</th>\n",
       "      <td>00299B378633</td>\n",
       "      <td>Dear, Principal\\n\\nIf u change the school poli...</td>\n",
       "      <td>3.0</td>\n",
       "      <td>3.5</td>\n",
       "      <td>3.0</td>\n",
       "      <td>3.0</td>\n",
       "      <td>3.0</td>\n",
       "      <td>2.5</td>\n",
       "      <td>4.0</td>\n",
       "      <td>2.891909</td>\n",
       "      <td>...</td>\n",
       "      <td>3.007077</td>\n",
       "      <td>0.492923</td>\n",
       "      <td>3.099227</td>\n",
       "      <td>0.099227</td>\n",
       "      <td>2.975205</td>\n",
       "      <td>0.024795</td>\n",
       "      <td>2.962219</td>\n",
       "      <td>0.037781</td>\n",
       "      <td>3.016932</td>\n",
       "      <td>0.516932</td>\n",
       "    </tr>\n",
       "  </tbody>\n",
       "</table>\n",
       "<p>3 rows × 21 columns</p>\n",
       "</div>"
      ],
      "text/plain": [
       "        text_id                                          full_text  cohesion  \\\n",
       "0  0016926B079C  I think that students would benefit from learn...       3.5   \n",
       "1  0022683E9EA5  When a problem is a change you have to let it ...       2.5   \n",
       "2  00299B378633  Dear, Principal\\n\\nIf u change the school poli...       3.0   \n",
       "\n",
       "   syntax  vocabulary  phraseology  grammar  conventions  fold  \\\n",
       "0     3.5         3.0          3.0      4.0          3.0   1.0   \n",
       "1     2.5         3.0          2.0      2.0          2.5   0.0   \n",
       "2     3.5         3.0          3.0      3.0          2.5   4.0   \n",
       "\n",
       "   cohesion_score  ...  syntax_score  syntax_error  vocabulary_score  \\\n",
       "0        2.855740  ...      2.950954      0.549046          3.219144   \n",
       "1        2.784366  ...      2.648692      0.148692          2.870578   \n",
       "2        2.891909  ...      3.007077      0.492923          3.099227   \n",
       "\n",
       "   vocabulary_error  phraseology_score  phraseology_error  grammar_score  \\\n",
       "0          0.219144           3.222088           0.222088       3.093439   \n",
       "1          0.129422           2.740792           0.740792       2.370473   \n",
       "2          0.099227           2.975205           0.024795       2.962219   \n",
       "\n",
       "   grammar_error  conventions_score  conventions_error  \n",
       "0       0.906561           2.753647           0.246353  \n",
       "1       0.370473           2.674716           0.174716  \n",
       "2       0.037781           3.016932           0.516932  \n",
       "\n",
       "[3 rows x 21 columns]"
      ]
     },
     "execution_count": 6,
     "metadata": {},
     "output_type": "execute_result"
    }
   ],
   "source": [
    "score_df.head(3)"
   ]
  },
  {
   "cell_type": "code",
   "execution_count": 7,
   "metadata": {},
   "outputs": [],
   "source": [
    "def plot_correlations(score_df: pd.DataFrame, col_list: t.List[str]):\n",
    "    feature_matrix = np.stack([score_df[col].values for col in col_list], axis=0)\n",
    "    corr_matrix = np.corrcoef(feature_matrix)\n",
    "    return sns.heatmap(corr_matrix, \n",
    "        xticklabels=col_list,\n",
    "        yticklabels=col_list,)"
   ]
  },
  {
   "cell_type": "code",
   "execution_count": 8,
   "metadata": {},
   "outputs": [
    {
     "data": {
      "image/png": "[encoded data removed]",
      "text/plain": [
       "<Figure size 640x480 with 2 Axes>"
      ]
     },
     "metadata": {},
     "output_type": "display_data"
    }
   ],
   "source": [
    "plot_correlations(score_df, TARGET_LIST);"
   ]
  },
  {
   "cell_type": "code",
   "execution_count": 9,
   "metadata": {},
   "outputs": [
    {
     "data": {
      "image/png": "[encoded data removed]",
      "text/plain": [
       "<Figure size 640x480 with 2 Axes>"
      ]
     },
     "metadata": {},
     "output_type": "display_data"
    }
   ],
   "source": [
    "plot_correlations(score_df, [f'{tgt}_score' for tgt in TARGET_LIST]);"
   ]
  },
  {
   "cell_type": "code",
   "execution_count": 10,
   "metadata": {},
   "outputs": [],
   "source": [
    "def compute_target_rmse(y_true: np.ndarray, y_pred: np.ndarray) -> float:\n",
    "    return math.sqrt(np.power(y_true - y_pred, 2).sum() / y_true.shape[0])"
   ]
  },
  {
   "cell_type": "code",
   "execution_count": 11,
   "metadata": {},
   "outputs": [],
   "source": [
    "def compute_target_list_rmse(score_df: pd.DataFrame, target_list: t.List[str]):\n",
    "    target_rmse_list = []\n",
    "    for target in target_list:\n",
    "        target_rmse = compute_target_rmse(score_df[target].values, score_df[f'{target}_score'].values)\n",
    "        target_rmse_list.append(target_rmse)\n",
    "        print(f'{target.rjust(12)} = {target_rmse:.4f}')\n",
    "    print(f'{\"mean\".rjust(12)} = {np.array(target_rmse_list).mean():.4f}')\n",
    "\n",
    "\n",
    "def compute_rmse_per_fold_and_target(score_df: pd.DataFrame, target_list: t.List, num_folds: int) -> pd.DataFrame:\n",
    "    row_list = []\n",
    "    for fold in range(NUM_FOLDS):\n",
    "        row_list.append({'fold': fold} | {\n",
    "            target: compute_target_rmse(score_df[score_df['fold'] == fold][target].values, score_df[score_df['fold'] == fold][f'{target}_score'].values)\n",
    "            for target in target_list\n",
    "        })\n",
    "    return pd.DataFrame(row_list)"
   ]
  },
  {
   "cell_type": "code",
   "execution_count": 12,
   "metadata": {},
   "outputs": [
    {
     "data": {
      "text/html": [
       "<div>\n",
       "<style scoped>\n",
       "    .dataframe tbody tr th:only-of-type {\n",
       "        vertical-align: middle;\n",
       "    }\n",
       "\n",
       "    .dataframe tbody tr th {\n",
       "        vertical-align: top;\n",
       "    }\n",
       "\n",
       "    .dataframe thead th {\n",
       "        text-align: right;\n",
       "    }\n",
       "</style>\n",
       "<table border=\"1\" class=\"dataframe\">\n",
       "  <thead>\n",
       "    <tr style=\"text-align: right;\">\n",
       "      <th></th>\n",
       "      <th>fold</th>\n",
       "      <th>cohesion</th>\n",
       "      <th>syntax</th>\n",
       "      <th>vocabulary</th>\n",
       "      <th>phraseology</th>\n",
       "      <th>grammar</th>\n",
       "      <th>conventions</th>\n",
       "    </tr>\n",
       "  </thead>\n",
       "  <tbody>\n",
       "    <tr>\n",
       "      <th>0</th>\n",
       "      <td>0</td>\n",
       "      <td>0.473580</td>\n",
       "      <td>0.449089</td>\n",
       "      <td>0.388764</td>\n",
       "      <td>0.445892</td>\n",
       "      <td>0.453158</td>\n",
       "      <td>0.441603</td>\n",
       "    </tr>\n",
       "    <tr>\n",
       "      <th>1</th>\n",
       "      <td>1</td>\n",
       "      <td>0.488713</td>\n",
       "      <td>0.442728</td>\n",
       "      <td>0.415672</td>\n",
       "      <td>0.468305</td>\n",
       "      <td>0.461316</td>\n",
       "      <td>0.444779</td>\n",
       "    </tr>\n",
       "    <tr>\n",
       "      <th>2</th>\n",
       "      <td>2</td>\n",
       "      <td>0.485103</td>\n",
       "      <td>0.458782</td>\n",
       "      <td>0.407654</td>\n",
       "      <td>0.440526</td>\n",
       "      <td>0.469864</td>\n",
       "      <td>0.449175</td>\n",
       "    </tr>\n",
       "    <tr>\n",
       "      <th>3</th>\n",
       "      <td>3</td>\n",
       "      <td>0.468247</td>\n",
       "      <td>0.429764</td>\n",
       "      <td>0.418939</td>\n",
       "      <td>0.449820</td>\n",
       "      <td>0.487304</td>\n",
       "      <td>0.434095</td>\n",
       "    </tr>\n",
       "    <tr>\n",
       "      <th>4</th>\n",
       "      <td>4</td>\n",
       "      <td>0.474538</td>\n",
       "      <td>0.431988</td>\n",
       "      <td>0.420238</td>\n",
       "      <td>0.455845</td>\n",
       "      <td>0.471916</td>\n",
       "      <td>0.445869</td>\n",
       "    </tr>\n",
       "  </tbody>\n",
       "</table>\n",
       "</div>"
      ],
      "text/plain": [
       "   fold  cohesion    syntax  vocabulary  phraseology   grammar  conventions\n",
       "0     0  0.473580  0.449089    0.388764     0.445892  0.453158     0.441603\n",
       "1     1  0.488713  0.442728    0.415672     0.468305  0.461316     0.444779\n",
       "2     2  0.485103  0.458782    0.407654     0.440526  0.469864     0.449175\n",
       "3     3  0.468247  0.429764    0.418939     0.449820  0.487304     0.434095\n",
       "4     4  0.474538  0.431988    0.420238     0.455845  0.471916     0.445869"
      ]
     },
     "execution_count": 12,
     "metadata": {},
     "output_type": "execute_result"
    }
   ],
   "source": [
    "compute_rmse_per_fold_and_target(score_df, TARGET_LIST, NUM_FOLDS)"
   ]
  },
  {
   "cell_type": "code",
   "execution_count": 13,
   "metadata": {},
   "outputs": [
    {
     "name": "stdout",
     "output_type": "stream",
     "text": [
      "            cohesion = 0.38\n",
      "              syntax = 0.43\n",
      "          vocabulary = 0.46\n",
      "         phraseology = 0.42\n",
      "             grammar = 0.41\n",
      "         conventions = 0.42\n"
     ]
    }
   ],
   "source": [
    "for target in TARGET_LIST:\n",
    "    num_error_lte_0p25 = len(score_df[score_df[f'{target}_error'] <= 0.25])\n",
    "    num_total = len(score_df)\n",
    "    print(f'{target.rjust(20)} = {num_error_lte_0p25 / num_total:.2f}')"
   ]
  },
  {
   "cell_type": "code",
   "execution_count": 14,
   "metadata": {},
   "outputs": [
    {
     "data": {
      "text/plain": [
       "<AxesSubplot: xlabel='cohesion_error', ylabel='Count'>"
      ]
     },
     "execution_count": 14,
     "metadata": {},
     "output_type": "execute_result"
    },
    {
     "data": {
      "image/png": "[encoded data removed]",
      "text/plain": [
       "<Figure size 640x480 with 1 Axes>"
      ]
     },
     "metadata": {},
     "output_type": "display_data"
    }
   ],
   "source": [
    "sns.histplot(score_df['cohesion_error'])"
   ]
  }
 ],
 "metadata": {
  "kernelspec": {
   "display_name": "Python 3.10.8 ('kaggle-fp-ell')",
   "language": "python",
   "name": "python3"
  },
  "language_info": {
   "codemirror_mode": {
    "name": "ipython",
    "version": 3
   },
   "file_extension": ".py",
   "mimetype": "text/x-python",
   "name": "python",
   "nbconvert_exporter": "python",
   "pygments_lexer": "ipython3",
   "version": "3.10.8"
  },
  "orig_nbformat": 4,
  "vscode": {
   "interpreter": {
    "hash": "4646e3fde12bd3179c3551877f577659b7a8fa6d1b23b85720655ff3fa8cde14"
   }
  }
 },
 "nbformat": 4,
 "nbformat_minor": 2
}
