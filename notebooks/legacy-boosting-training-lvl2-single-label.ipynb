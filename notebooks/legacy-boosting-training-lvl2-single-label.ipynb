{
 "cells": [
  {
   "cell_type": "code",
   "execution_count": 10,
   "metadata": {},
   "outputs": [],
   "source": [
    "import collections\n",
    "import functools\n",
    "import itertools\n",
    "import math\n",
    "import os\n",
    "import statistics\n",
    "import typing as t\n",
    "from pathlib import Path\n",
    "\n",
    "import numpy as np\n",
    "import pandas as pd\n",
    "from catboost import CatBoostRegressor, EFeaturesSelectionAlgorithm\n",
    "from iterstrat.ml_stratifiers import MultilabelStratifiedKFold\n",
    "from kaggle_toolbox.environment import Environment\n",
    "from kaggle_toolbox.features.transform import contiguous_to_categorical\n",
    "from kaggle_toolbox.path import format_path\n",
    "from kaggle_toolbox.prediction import PredDict\n",
    "from kaggle_toolbox.trainer import train_kfold_model\n",
    "from kaggle_toolbox.typing import ensure_list\n",
    "from kaggle_toolbox.validation import analyze_val_strategy, build_fold_result_df\n",
    "from xgboost import XGBRegressor\n",
    "from sklearn.metrics import mean_squared_error\n",
    "from sklearn.svm import SVR\n",
    "from textstat import textstat\n",
    "from tqdm.notebook import tqdm\n",
    "\n",
    "tqdm.pandas()"
   ]
  },
  {
   "cell_type": "code",
   "execution_count": 2,
   "metadata": {},
   "outputs": [],
   "source": [
    "TARGET_LIST = [\n",
    "    'cohesion',\n",
    "    'syntax',\n",
    "    'vocabulary',\n",
    "    'phraseology',\n",
    "    'grammar',\n",
    "    'conventions',\n",
    "]\n",
    "TARGET = TARGET_LIST[0]\n",
    "\n",
    "SEED = 42\n",
    "NUM_FOLDS = 5\n",
    "FOLD_LIST = [0, 1, 2, 3, 4]\n",
    "\n",
    "ENVIRONMENT = os.getenv('__KGLTBX_ENVIRONMENT', 'laptop')\n",
    "_env = Environment(ENVIRONMENT)\n",
    "\n",
    "ROOT_DIR = _env.param(\n",
    "    kaggle=Path('/kaggle'),\n",
    "    colab=Path('/content/drive/MyDrive'),\n",
    "    laptop=Path('/kaggle'))\n",
    "DATA_DIR = _env.param(\n",
    "    kaggle=ROOT_DIR / 'input',\n",
    "    colab=ROOT_DIR / 'data',\n",
    "    laptop=ROOT_DIR / 'data')\n",
    "FP_ELL_DATASET_DIR = _env.param(\n",
    "    kaggle=DATA_DIR / 'feedback-prize-english-language-learning',\n",
    "    colab=DATA_DIR / 'fp-ell',\n",
    "    laptop=DATA_DIR / 'fp-ell')\n",
    "MODEL_DIR = _env.param(\n",
    "    kaggle=ROOT_DIR / 'working',\n",
    "    colab=ROOT_DIR / 'models/fp-ell',\n",
    "    laptop=ROOT_DIR / 'models')\n",
    "OOF_DIR = _env.param(\n",
    "    kaggle=ROOT_DIR / 'working',\n",
    "    colab=ROOT_DIR / 'oof/fp-ell',\n",
    "    laptop=ROOT_DIR / 'oof')\n",
    "\n",
    "TARGET_TO_LVL1_OOF_PATH_DICT = {\n",
    "    'cohesion': OOF_DIR / 'cohesion-v1-layer_norm-ep_4-valfreq_0p25-pooler_att-full.csv',\n",
    "    'syntax': OOF_DIR / 'syntax-v1-layer_norm-ep_3-valfreq_0p25-full.csv',\n",
    "    'vocabulary': OOF_DIR / 'vocabulary-v1-layer_norm-ep_3-valfreq_0p25-std_init.csv',\n",
    "    'phraseology': OOF_DIR / 'phraseology-v1-layer_norm-ep_3-valfreq_0p25-std_init-full.csv',\n",
    "    'grammar': OOF_DIR / 'grammar-v1-lnorm-ep_4-valfreq_0p25-sqzr_cat_9_to_12-full.csv',\n",
    "    'conventions': OOF_DIR / 'conventions-v1-layer_norm-ep_3-valfreq_0p25-full.csv',\n",
    "}"
   ]
  },
  {
   "cell_type": "code",
   "execution_count": 3,
   "metadata": {},
   "outputs": [],
   "source": [
    "def build_features(df: pd.DataFrame) -> pd.DataFrame:\n",
    "    df = df.copy()\n",
    "    text_srs = df['full_text']\n",
    "\n",
    "    # Score-based\n",
    "    for i, target_lhs in enumerate(TARGET_LIST):\n",
    "        for target_rhs in TARGET_LIST[i:]:\n",
    "            df[f'{target_lhs}_{target_rhs}_lvl1_score_l1'] = (\n",
    "                df[f'{target_lhs}_lvl1_score'] - df[f'{target_rhs}_lvl1_score']).abs()\n",
    "    df['lvl1_mean'] = df.progress_apply(\n",
    "        lambda row: statistics.mean([row[f'{col}_lvl1_score'] for col in TARGET_LIST]), axis=1)\n",
    "    df['lvl1_std'] = df.progress_apply(\n",
    "        lambda row: statistics.stdev([row[f'{col}_lvl1_score'] for col in TARGET_LIST]), axis=1)\n",
    "\n",
    "    # Custom simple\n",
    "    df['num_commas'] = text_srs.progress_apply(lambda text: text.count(','))\n",
    "    df['num_dots'] = text_srs.progress_apply(lambda text: text.count('.'))\n",
    "    df['num_colons'] = text_srs.progress_apply(lambda text: text.count(':'))\n",
    "    df['num_semicolons'] = text_srs.progress_apply(lambda text: text.count(';'))\n",
    "    df['num_ellipsis'] = text_srs.progress_apply(lambda text: text.count('...'))\n",
    "    df['num_newlines'] = text_srs.progress_apply(lambda text: text.count('\\n'))\n",
    "    df['num_spaces'] = text_srs.progress_apply(lambda text: text.count(' '))\n",
    "\n",
    "    # TextStat simple\n",
    "    df['syllable_count'] = text_srs.progress_apply(\n",
    "        lambda text: textstat.syllable_count(text))\n",
    "    df['lexicon_count'] = text_srs.progress_apply(\n",
    "        lambda text: textstat.lexicon_count(text, removepunct=True))\n",
    "    df['char_count'] = text_srs.progress_apply(\n",
    "        lambda text: textstat.char_count(text, ignore_spaces=True))\n",
    "    df['letter_count'] = text_srs.progress_apply(\n",
    "        lambda text: textstat.letter_count(text, ignore_spaces=True))\n",
    "    df['polysyllabcount'] = text_srs.progress_apply(\n",
    "        lambda text: textstat.polysyllabcount(text))\n",
    "    df['monosyllabcount'] = text_srs.progress_apply(\n",
    "        lambda text: textstat.monosyllabcount(text))\n",
    "\n",
    "    # Custom complex\n",
    "    df['ratio_commas'] = df['num_commas'] / df['char_count']\n",
    "    df['ratio_dots'] = df['num_dots'] / df['char_count']\n",
    "    df['ratio_colons'] = df['num_colons'] / df['char_count']\n",
    "    df['ratio_semicolons'] = df['num_semicolons'] / df['char_count']\n",
    "    df['ratio_ellipsis'] = df['num_ellipsis'] / df['char_count']\n",
    "    df['ratio_newlines'] = df['num_newlines'] / df['char_count']\n",
    "    df['ratio_spaces'] = df['num_spaces'] / df['char_count']\n",
    "\n",
    "    # TextStat complex\n",
    "    df['flesch_reading_ease'] = text_srs.progress_apply(\n",
    "        lambda text: textstat.flesch_reading_ease(text))\n",
    "    df['flesch_kincaid_grade'] = text_srs.progress_apply(\n",
    "        lambda text: textstat.flesch_kincaid_grade(text))\n",
    "    df['gunning_fog'] = text_srs.progress_apply(\n",
    "        lambda text: textstat.gunning_fog(text))\n",
    "    df['smog_index'] = text_srs.progress_apply(\n",
    "        lambda text: textstat.smog_index(text))\n",
    "    df['automated_readability_index'] = text_srs.progress_apply(\n",
    "        lambda text: textstat.automated_readability_index(text))\n",
    "    df['coleman_liau_index'] = text_srs.progress_apply(\n",
    "        lambda text: textstat.coleman_liau_index(text))\n",
    "    df['linsear_write_formula'] = text_srs.progress_apply(\n",
    "        lambda text: textstat.linsear_write_formula(text))\n",
    "    df['dale_chall_readability_score'] = text_srs.progress_apply(\n",
    "        lambda text: textstat.dale_chall_readability_score(text))\n",
    "    df['text_standard'] = text_srs.progress_apply(\n",
    "        lambda text: textstat.text_standard(text, float_output=True))\n",
    "    df['spache_readability'] = text_srs.progress_apply(\n",
    "        lambda text: textstat.spache_readability(text))\n",
    "    df['mcalpine_eflaw'] = text_srs.progress_apply(\n",
    "        lambda text: textstat.mcalpine_eflaw(text))\n",
    "    df['reading_time'] = text_srs.progress_apply(\n",
    "        lambda text: textstat.reading_time(text, ms_per_char=14.69))\n",
    "\n",
    "    return df"
   ]
  },
  {
   "cell_type": "code",
   "execution_count": 4,
   "metadata": {},
   "outputs": [
    {
     "data": {
      "application/vnd.jupyter.widget-view+json": {
       "model_id": "969da9db8947414aac04f4f3c378f2f4",
       "version_major": 2,
       "version_minor": 0
      },
      "text/plain": [
       "  0%|          | 0/3911 [00:00<?, ?it/s]"
      ]
     },
     "metadata": {},
     "output_type": "display_data"
    },
    {
     "data": {
      "application/vnd.jupyter.widget-view+json": {
       "model_id": "a44b25c7e28a47bab6c2e08dec431015",
       "version_major": 2,
       "version_minor": 0
      },
      "text/plain": [
       "  0%|          | 0/3911 [00:00<?, ?it/s]"
      ]
     },
     "metadata": {},
     "output_type": "display_data"
    },
    {
     "data": {
      "application/vnd.jupyter.widget-view+json": {
       "model_id": "1245f114f545492abde51fb21d128996",
       "version_major": 2,
       "version_minor": 0
      },
      "text/plain": [
       "  0%|          | 0/3911 [00:00<?, ?it/s]"
      ]
     },
     "metadata": {},
     "output_type": "display_data"
    },
    {
     "data": {
      "application/vnd.jupyter.widget-view+json": {
       "model_id": "dac0d4e6518145d189ea8f36f4f0300d",
       "version_major": 2,
       "version_minor": 0
      },
      "text/plain": [
       "  0%|          | 0/3911 [00:00<?, ?it/s]"
      ]
     },
     "metadata": {},
     "output_type": "display_data"
    },
    {
     "data": {
      "application/vnd.jupyter.widget-view+json": {
       "model_id": "5eb3bb470bca4dafab854cd692fe7e04",
       "version_major": 2,
       "version_minor": 0
      },
      "text/plain": [
       "  0%|          | 0/3911 [00:00<?, ?it/s]"
      ]
     },
     "metadata": {},
     "output_type": "display_data"
    },
    {
     "data": {
      "application/vnd.jupyter.widget-view+json": {
       "model_id": "7a9ec6e284284ffa95e65fd082fb830f",
       "version_major": 2,
       "version_minor": 0
      },
      "text/plain": [
       "  0%|          | 0/3911 [00:00<?, ?it/s]"
      ]
     },
     "metadata": {},
     "output_type": "display_data"
    },
    {
     "data": {
      "application/vnd.jupyter.widget-view+json": {
       "model_id": "5923d8f7a4224a62818cb0f676933cd0",
       "version_major": 2,
       "version_minor": 0
      },
      "text/plain": [
       "  0%|          | 0/3911 [00:00<?, ?it/s]"
      ]
     },
     "metadata": {},
     "output_type": "display_data"
    },
    {
     "data": {
      "application/vnd.jupyter.widget-view+json": {
       "model_id": "1fe9b530c4ab42319330300d7eacd205",
       "version_major": 2,
       "version_minor": 0
      },
      "text/plain": [
       "  0%|          | 0/3911 [00:00<?, ?it/s]"
      ]
     },
     "metadata": {},
     "output_type": "display_data"
    },
    {
     "data": {
      "application/vnd.jupyter.widget-view+json": {
       "model_id": "e0d3f38c88934f4d9e5b8752026c59b0",
       "version_major": 2,
       "version_minor": 0
      },
      "text/plain": [
       "  0%|          | 0/3911 [00:00<?, ?it/s]"
      ]
     },
     "metadata": {},
     "output_type": "display_data"
    },
    {
     "data": {
      "application/vnd.jupyter.widget-view+json": {
       "model_id": "8314eb31fec84f1e89f9f6aacf16e4ba",
       "version_major": 2,
       "version_minor": 0
      },
      "text/plain": [
       "  0%|          | 0/3911 [00:00<?, ?it/s]"
      ]
     },
     "metadata": {},
     "output_type": "display_data"
    },
    {
     "data": {
      "application/vnd.jupyter.widget-view+json": {
       "model_id": "6246ced8d36d41d885557dda9da7680b",
       "version_major": 2,
       "version_minor": 0
      },
      "text/plain": [
       "  0%|          | 0/3911 [00:00<?, ?it/s]"
      ]
     },
     "metadata": {},
     "output_type": "display_data"
    },
    {
     "data": {
      "application/vnd.jupyter.widget-view+json": {
       "model_id": "c8aefbef6efa48e2a1ebcf399358b473",
       "version_major": 2,
       "version_minor": 0
      },
      "text/plain": [
       "  0%|          | 0/3911 [00:00<?, ?it/s]"
      ]
     },
     "metadata": {},
     "output_type": "display_data"
    },
    {
     "data": {
      "application/vnd.jupyter.widget-view+json": {
       "model_id": "1166d05aafc849fdb3e9dd102489a34e",
       "version_major": 2,
       "version_minor": 0
      },
      "text/plain": [
       "  0%|          | 0/3911 [00:00<?, ?it/s]"
      ]
     },
     "metadata": {},
     "output_type": "display_data"
    },
    {
     "data": {
      "application/vnd.jupyter.widget-view+json": {
       "model_id": "9a0f7ebfa5e944eb9d79b1726fe49e25",
       "version_major": 2,
       "version_minor": 0
      },
      "text/plain": [
       "  0%|          | 0/3911 [00:00<?, ?it/s]"
      ]
     },
     "metadata": {},
     "output_type": "display_data"
    },
    {
     "data": {
      "application/vnd.jupyter.widget-view+json": {
       "model_id": "18ad75ce684040628973d5dad5126605",
       "version_major": 2,
       "version_minor": 0
      },
      "text/plain": [
       "  0%|          | 0/3911 [00:00<?, ?it/s]"
      ]
     },
     "metadata": {},
     "output_type": "display_data"
    },
    {
     "data": {
      "application/vnd.jupyter.widget-view+json": {
       "model_id": "8c811c1cafa34d64a82a79e0a54fdc52",
       "version_major": 2,
       "version_minor": 0
      },
      "text/plain": [
       "  0%|          | 0/3911 [00:00<?, ?it/s]"
      ]
     },
     "metadata": {},
     "output_type": "display_data"
    },
    {
     "data": {
      "application/vnd.jupyter.widget-view+json": {
       "model_id": "05d2d123d6a34d5dbbe769846aacbdae",
       "version_major": 2,
       "version_minor": 0
      },
      "text/plain": [
       "  0%|          | 0/3911 [00:00<?, ?it/s]"
      ]
     },
     "metadata": {},
     "output_type": "display_data"
    },
    {
     "data": {
      "application/vnd.jupyter.widget-view+json": {
       "model_id": "46326f4dd4784722b2d641d7f196d454",
       "version_major": 2,
       "version_minor": 0
      },
      "text/plain": [
       "  0%|          | 0/3911 [00:00<?, ?it/s]"
      ]
     },
     "metadata": {},
     "output_type": "display_data"
    },
    {
     "data": {
      "application/vnd.jupyter.widget-view+json": {
       "model_id": "203c8c1df6d24cd19e00c6490ba249bf",
       "version_major": 2,
       "version_minor": 0
      },
      "text/plain": [
       "  0%|          | 0/3911 [00:00<?, ?it/s]"
      ]
     },
     "metadata": {},
     "output_type": "display_data"
    },
    {
     "data": {
      "application/vnd.jupyter.widget-view+json": {
       "model_id": "d667491a42ab4544a15e9b16346352ac",
       "version_major": 2,
       "version_minor": 0
      },
      "text/plain": [
       "  0%|          | 0/3911 [00:00<?, ?it/s]"
      ]
     },
     "metadata": {},
     "output_type": "display_data"
    },
    {
     "data": {
      "application/vnd.jupyter.widget-view+json": {
       "model_id": "f970d69c8d7245d0b71cb968032f4149",
       "version_major": 2,
       "version_minor": 0
      },
      "text/plain": [
       "  0%|          | 0/3911 [00:00<?, ?it/s]"
      ]
     },
     "metadata": {},
     "output_type": "display_data"
    },
    {
     "data": {
      "application/vnd.jupyter.widget-view+json": {
       "model_id": "30cc4cf87ee848679de92a2c6b92a8a3",
       "version_major": 2,
       "version_minor": 0
      },
      "text/plain": [
       "  0%|          | 0/3911 [00:00<?, ?it/s]"
      ]
     },
     "metadata": {},
     "output_type": "display_data"
    },
    {
     "data": {
      "application/vnd.jupyter.widget-view+json": {
       "model_id": "3b735d1d1a8f486c8cc3b40443f92fac",
       "version_major": 2,
       "version_minor": 0
      },
      "text/plain": [
       "  0%|          | 0/3911 [00:00<?, ?it/s]"
      ]
     },
     "metadata": {},
     "output_type": "display_data"
    },
    {
     "data": {
      "application/vnd.jupyter.widget-view+json": {
       "model_id": "95eb862c14c546a898f4cf80f0f9f83b",
       "version_major": 2,
       "version_minor": 0
      },
      "text/plain": [
       "  0%|          | 0/3911 [00:00<?, ?it/s]"
      ]
     },
     "metadata": {},
     "output_type": "display_data"
    },
    {
     "data": {
      "application/vnd.jupyter.widget-view+json": {
       "model_id": "06039d4af39d40c8be6cc608c23df391",
       "version_major": 2,
       "version_minor": 0
      },
      "text/plain": [
       "  0%|          | 0/3911 [00:00<?, ?it/s]"
      ]
     },
     "metadata": {},
     "output_type": "display_data"
    },
    {
     "data": {
      "application/vnd.jupyter.widget-view+json": {
       "model_id": "6f5d3e1c892842ea9e071ee3b3042815",
       "version_major": 2,
       "version_minor": 0
      },
      "text/plain": [
       "  0%|          | 0/3911 [00:00<?, ?it/s]"
      ]
     },
     "metadata": {},
     "output_type": "display_data"
    },
    {
     "data": {
      "application/vnd.jupyter.widget-view+json": {
       "model_id": "8a03d338924d422d9df3369ecba1869b",
       "version_major": 2,
       "version_minor": 0
      },
      "text/plain": [
       "  0%|          | 0/3911 [00:00<?, ?it/s]"
      ]
     },
     "metadata": {},
     "output_type": "display_data"
    },
    {
     "data": {
      "text/html": [
       "<div>\n",
       "<style scoped>\n",
       "    .dataframe tbody tr th:only-of-type {\n",
       "        vertical-align: middle;\n",
       "    }\n",
       "\n",
       "    .dataframe tbody tr th {\n",
       "        vertical-align: top;\n",
       "    }\n",
       "\n",
       "    .dataframe thead th {\n",
       "        text-align: right;\n",
       "    }\n",
       "</style>\n",
       "<table border=\"1\" class=\"dataframe\">\n",
       "  <thead>\n",
       "    <tr style=\"text-align: right;\">\n",
       "      <th></th>\n",
       "      <th>fold</th>\n",
       "      <th>num_samples</th>\n",
       "      <th>cohesion_mean</th>\n",
       "      <th>syntax_mean</th>\n",
       "      <th>vocabulary_mean</th>\n",
       "      <th>phraseology_mean</th>\n",
       "      <th>grammar_mean</th>\n",
       "      <th>conventions_mean</th>\n",
       "    </tr>\n",
       "  </thead>\n",
       "  <tbody>\n",
       "    <tr>\n",
       "      <th>0</th>\n",
       "      <td>0</td>\n",
       "      <td>782</td>\n",
       "      <td>3.077366</td>\n",
       "      <td>2.971867</td>\n",
       "      <td>3.205243</td>\n",
       "      <td>3.065857</td>\n",
       "      <td>2.959719</td>\n",
       "      <td>3.035166</td>\n",
       "    </tr>\n",
       "    <tr>\n",
       "      <th>1</th>\n",
       "      <td>1</td>\n",
       "      <td>783</td>\n",
       "      <td>3.125160</td>\n",
       "      <td>3.007024</td>\n",
       "      <td>3.226054</td>\n",
       "      <td>3.111111</td>\n",
       "      <td>3.015964</td>\n",
       "      <td>3.079183</td>\n",
       "    </tr>\n",
       "    <tr>\n",
       "      <th>2</th>\n",
       "      <td>2</td>\n",
       "      <td>782</td>\n",
       "      <td>3.140665</td>\n",
       "      <td>3.068414</td>\n",
       "      <td>3.258312</td>\n",
       "      <td>3.138747</td>\n",
       "      <td>3.069693</td>\n",
       "      <td>3.116368</td>\n",
       "    </tr>\n",
       "    <tr>\n",
       "      <th>3</th>\n",
       "      <td>3</td>\n",
       "      <td>782</td>\n",
       "      <td>3.131074</td>\n",
       "      <td>3.048593</td>\n",
       "      <td>3.245524</td>\n",
       "      <td>3.125959</td>\n",
       "      <td>3.042839</td>\n",
       "      <td>3.074169</td>\n",
       "    </tr>\n",
       "    <tr>\n",
       "      <th>4</th>\n",
       "      <td>4</td>\n",
       "      <td>782</td>\n",
       "      <td>3.161125</td>\n",
       "      <td>3.045396</td>\n",
       "      <td>3.243606</td>\n",
       "      <td>3.142583</td>\n",
       "      <td>3.076087</td>\n",
       "      <td>3.100384</td>\n",
       "    </tr>\n",
       "  </tbody>\n",
       "</table>\n",
       "</div>"
      ],
      "text/plain": [
       "   fold  num_samples  cohesion_mean  syntax_mean  vocabulary_mean  \\\n",
       "0     0          782       3.077366     2.971867         3.205243   \n",
       "1     1          783       3.125160     3.007024         3.226054   \n",
       "2     2          782       3.140665     3.068414         3.258312   \n",
       "3     3          782       3.131074     3.048593         3.245524   \n",
       "4     4          782       3.161125     3.045396         3.243606   \n",
       "\n",
       "   phraseology_mean  grammar_mean  conventions_mean  \n",
       "0          3.065857      2.959719          3.035166  \n",
       "1          3.111111      3.015964          3.079183  \n",
       "2          3.138747      3.069693          3.116368  \n",
       "3          3.125959      3.042839          3.074169  \n",
       "4          3.142583      3.076087          3.100384  "
      ]
     },
     "execution_count": 4,
     "metadata": {},
     "output_type": "execute_result"
    }
   ],
   "source": [
    "def _read_data(\n",
    "        dataset_dir_path: Path,\n",
    "        target_list: t.List[str],\n",
    "        target_to_lvl1_oof_path_dict: t.Dict[str, Path],\n",
    "        num_folds: int,\n",
    "        seed: int) -> pd.DataFrame:\n",
    "    all_df = pd.read_csv(dataset_dir_path / 'train.csv')\n",
    "    target_arr = contiguous_to_categorical(all_df[target_list].values)\n",
    "\n",
    "    mskf = MultilabelStratifiedKFold(n_splits=num_folds, shuffle=True, random_state=seed)\n",
    "    for fold_, (_, v_) in enumerate(mskf.split(X=all_df, y=target_arr)):\n",
    "        all_df.loc[v_, 'fold'] = fold_\n",
    "\n",
    "    for target in target_list:\n",
    "        all_df = all_df.merge(\n",
    "            pd.read_csv(target_to_lvl1_oof_path_dict[target])\n",
    "                .rename({\n",
    "                    'id': 'text_id',\n",
    "                    f'{target}_score': f'{target}_lvl1_score',\n",
    "                }, axis=1),\n",
    "            left_on='text_id',\n",
    "            right_on='text_id')\n",
    "\n",
    "    all_df = build_features(all_df)\n",
    "\n",
    "    return all_df\n",
    "\n",
    "all_df = _read_data(\n",
    "    dataset_dir_path=FP_ELL_DATASET_DIR,\n",
    "    target_list=TARGET_LIST,\n",
    "    target_to_lvl1_oof_path_dict=TARGET_TO_LVL1_OOF_PATH_DICT,\n",
    "    num_folds=NUM_FOLDS,\n",
    "    seed=SEED)\n",
    "\n",
    "analyze_val_strategy(all_df, target_list=TARGET_LIST, num_folds=NUM_FOLDS)"
   ]
  },
  {
   "cell_type": "code",
   "execution_count": 5,
   "metadata": {},
   "outputs": [
    {
     "data": {
      "text/html": [
       "<div>\n",
       "<style scoped>\n",
       "    .dataframe tbody tr th:only-of-type {\n",
       "        vertical-align: middle;\n",
       "    }\n",
       "\n",
       "    .dataframe tbody tr th {\n",
       "        vertical-align: top;\n",
       "    }\n",
       "\n",
       "    .dataframe thead th {\n",
       "        text-align: right;\n",
       "    }\n",
       "</style>\n",
       "<table border=\"1\" class=\"dataframe\">\n",
       "  <thead>\n",
       "    <tr style=\"text-align: right;\">\n",
       "      <th></th>\n",
       "      <th>text_id</th>\n",
       "      <th>full_text</th>\n",
       "      <th>cohesion</th>\n",
       "      <th>syntax</th>\n",
       "      <th>vocabulary</th>\n",
       "      <th>phraseology</th>\n",
       "      <th>grammar</th>\n",
       "      <th>conventions</th>\n",
       "      <th>fold</th>\n",
       "      <th>cohesion_lvl1_score</th>\n",
       "      <th>...</th>\n",
       "      <th>gunning_fog</th>\n",
       "      <th>smog_index</th>\n",
       "      <th>automated_readability_index</th>\n",
       "      <th>coleman_liau_index</th>\n",
       "      <th>linsear_write_formula</th>\n",
       "      <th>dale_chall_readability_score</th>\n",
       "      <th>text_standard</th>\n",
       "      <th>spache_readability</th>\n",
       "      <th>mcalpine_eflaw</th>\n",
       "      <th>reading_time</th>\n",
       "    </tr>\n",
       "  </thead>\n",
       "  <tbody>\n",
       "    <tr>\n",
       "      <th>0</th>\n",
       "      <td>0016926B079C</td>\n",
       "      <td>I think that students would benefit from learn...</td>\n",
       "      <td>3.5</td>\n",
       "      <td>3.5</td>\n",
       "      <td>3.0</td>\n",
       "      <td>3.0</td>\n",
       "      <td>4.0</td>\n",
       "      <td>3.0</td>\n",
       "      <td>1.0</td>\n",
       "      <td>2.855740</td>\n",
       "      <td>...</td>\n",
       "      <td>6.57</td>\n",
       "      <td>7.6</td>\n",
       "      <td>5.8</td>\n",
       "      <td>6.31</td>\n",
       "      <td>8.000</td>\n",
       "      <td>5.99</td>\n",
       "      <td>6.0</td>\n",
       "      <td>3.34</td>\n",
       "      <td>20.2</td>\n",
       "      <td>16.31</td>\n",
       "    </tr>\n",
       "    <tr>\n",
       "      <th>1</th>\n",
       "      <td>0022683E9EA5</td>\n",
       "      <td>When a problem is a change you have to let it ...</td>\n",
       "      <td>2.5</td>\n",
       "      <td>2.5</td>\n",
       "      <td>3.0</td>\n",
       "      <td>2.0</td>\n",
       "      <td>2.0</td>\n",
       "      <td>2.5</td>\n",
       "      <td>0.0</td>\n",
       "      <td>2.784366</td>\n",
       "      <td>...</td>\n",
       "      <td>15.47</td>\n",
       "      <td>11.9</td>\n",
       "      <td>16.2</td>\n",
       "      <td>5.93</td>\n",
       "      <td>11.200</td>\n",
       "      <td>2.45</td>\n",
       "      <td>12.0</td>\n",
       "      <td>6.40</td>\n",
       "      <td>58.5</td>\n",
       "      <td>30.82</td>\n",
       "    </tr>\n",
       "    <tr>\n",
       "      <th>2</th>\n",
       "      <td>00299B378633</td>\n",
       "      <td>Dear, Principal\\n\\nIf u change the school poli...</td>\n",
       "      <td>3.0</td>\n",
       "      <td>3.5</td>\n",
       "      <td>3.0</td>\n",
       "      <td>3.0</td>\n",
       "      <td>3.0</td>\n",
       "      <td>2.5</td>\n",
       "      <td>4.0</td>\n",
       "      <td>2.891909</td>\n",
       "      <td>...</td>\n",
       "      <td>7.22</td>\n",
       "      <td>9.4</td>\n",
       "      <td>6.8</td>\n",
       "      <td>6.09</td>\n",
       "      <td>6.625</td>\n",
       "      <td>5.95</td>\n",
       "      <td>7.0</td>\n",
       "      <td>3.64</td>\n",
       "      <td>23.6</td>\n",
       "      <td>19.73</td>\n",
       "    </tr>\n",
       "  </tbody>\n",
       "</table>\n",
       "<p>3 rows × 70 columns</p>\n",
       "</div>"
      ],
      "text/plain": [
       "        text_id                                          full_text  cohesion  \\\n",
       "0  0016926B079C  I think that students would benefit from learn...       3.5   \n",
       "1  0022683E9EA5  When a problem is a change you have to let it ...       2.5   \n",
       "2  00299B378633  Dear, Principal\\n\\nIf u change the school poli...       3.0   \n",
       "\n",
       "   syntax  vocabulary  phraseology  grammar  conventions  fold  \\\n",
       "0     3.5         3.0          3.0      4.0          3.0   1.0   \n",
       "1     2.5         3.0          2.0      2.0          2.5   0.0   \n",
       "2     3.5         3.0          3.0      3.0          2.5   4.0   \n",
       "\n",
       "   cohesion_lvl1_score  ...  gunning_fog  smog_index  \\\n",
       "0             2.855740  ...         6.57         7.6   \n",
       "1             2.784366  ...        15.47        11.9   \n",
       "2             2.891909  ...         7.22         9.4   \n",
       "\n",
       "   automated_readability_index  coleman_liau_index  linsear_write_formula  \\\n",
       "0                          5.8                6.31                  8.000   \n",
       "1                         16.2                5.93                 11.200   \n",
       "2                          6.8                6.09                  6.625   \n",
       "\n",
       "   dale_chall_readability_score  text_standard  spache_readability  \\\n",
       "0                          5.99            6.0                3.34   \n",
       "1                          2.45           12.0                6.40   \n",
       "2                          5.95            7.0                3.64   \n",
       "\n",
       "   mcalpine_eflaw  reading_time  \n",
       "0            20.2         16.31  \n",
       "1            58.5         30.82  \n",
       "2            23.6         19.73  \n",
       "\n",
       "[3 rows x 70 columns]"
      ]
     },
     "execution_count": 5,
     "metadata": {},
     "output_type": "execute_result"
    }
   ],
   "source": [
    "all_df.head(3)"
   ]
  },
  {
   "cell_type": "markdown",
   "metadata": {},
   "source": [
    "#### SVR"
   ]
  },
  {
   "cell_type": "code",
   "execution_count": 6,
   "metadata": {},
   "outputs": [],
   "source": [
    "class _SVRTrainer:\n",
    "    _FEATURES_TO_EXCLUDE_SET = {\n",
    "        'text_id',\n",
    "        'full_text',\n",
    "        'cohesion',\n",
    "        'syntax',\n",
    "        'vocabulary',\n",
    "        'phraseology',\n",
    "        'grammar',\n",
    "        'conventions',\n",
    "        'fold',\n",
    "    }\n",
    "\n",
    "    target: str\n",
    "\n",
    "    def __init__(self, model_param_dict: t.Dict[str, t.Any]):\n",
    "        self._model_param_dict = model_param_dict\n",
    "\n",
    "    def _is_feature_included(self, feature_name: str) -> bool:\n",
    "        return feature_name not in self._FEATURES_TO_EXCLUDE_SET\n",
    "\n",
    "    def _get_model(self) -> SVR:\n",
    "        return SVR(**self._model_param_dict)\n",
    "\n",
    "    def _convert_df_to_xy(self, df: pd.DataFrame) -> t.Tuple[np.ndarray, np.ndarray, t.List[str]]:\n",
    "        feature_name_list = [\n",
    "            col for col in t.cast(t.List[str], df.columns)\n",
    "            if self._is_feature_included(col)\n",
    "        ]\n",
    "        x = df[feature_name_list].values\n",
    "        y = df[self.target].values\n",
    "        return x, y, feature_name_list  # type: ignore\n",
    "\n",
    "    def __call__(self, fold: int) -> t.Tuple[float, PredDict]:\n",
    "        train_df, valid_df = all_df[all_df['fold'] != fold], all_df[all_df['fold'] == fold]\n",
    "        train_x, train_y, feature_name_list = self._convert_df_to_xy(train_df)\n",
    "        valid_x, valid_y, _ = self._convert_df_to_xy(valid_df)\n",
    "\n",
    "        booster = self._get_model()\n",
    "        booster.fit(X=train_x, y=train_y)\n",
    "        valid_y_pred = booster.predict(valid_x)\n",
    "\n",
    "        score = math.sqrt(mean_squared_error(y_true=valid_y, y_pred=valid_y_pred))\n",
    "\n",
    "        return score, PredDict(zip(valid_df['text_id'].tolist(), valid_y_pred))\n",
    "\n",
    "\n",
    "class _ConventionsSVRTrainer(_SVRTrainer):\n",
    "    target = 'conventions'\n",
    "\n",
    "    def _is_feature_included(self, feature_name: str) -> bool:\n",
    "        return super()._is_feature_included(feature_name) and not feature_name.endswith('_l1')\n",
    "\n",
    "\n",
    "# score_list, oof_pred_dict= train_kfold_model(\n",
    "#         train_model_fn=_ConventionsSVRTrainer({}),\n",
    "#         fold_list=FOLD_LIST)\n",
    "# if OOF_PATH is not None:\n",
    "#     oof_pred_dict.save_to_csv(\n",
    "#         OOF_PATH,\n",
    "#         score_col_name_list=[f'{target}_score' for target in TARGET_LIST])\n",
    "# build_fold_result_df(fold_list=FOLD_LIST, score_list=score_list)"
   ]
  },
  {
   "cell_type": "markdown",
   "metadata": {},
   "source": [
    "#### XGBoost"
   ]
  },
  {
   "cell_type": "code",
   "execution_count": 7,
   "metadata": {},
   "outputs": [],
   "source": [
    "def grid_search(\n",
    "        train_model_fn: t.Callable[[t.Dict[str, t.Any], int], t.Tuple[float, PredDict]],\n",
    "        param_plan: t.Dict[str, t.List[t.Any]]) -> t.Tuple[t.Dict[str, t.Any], t.List[float], PredDict]:\n",
    "    param_name_list = list(param_plan.keys())\n",
    "    param_comb_list = list(itertools.product(*[param_plan[param_name] for param_name in param_name_list]))\n",
    "    best_param_dict, best_score_list, best_pred_dict = None, None, None\n",
    "    it = tqdm(param_comb_list)\n",
    "    for param_value_tuple in it:\n",
    "        param_value_list = list(param_value_tuple)\n",
    "        param_dict = dict(zip(param_name_list, param_value_list))\n",
    "        param_str = ', '.join([f'{k} = {v}' for k, v in param_dict.items()])\n",
    "        if best_score_list is not None:\n",
    "            it.set_description(f'Best score: {statistics.mean(best_score_list):.4f}. Params: {param_str}')\n",
    "        else:\n",
    "            it.set_description(f'Params: {param_str}')\n",
    "        iter_score_list, iter_pred_dict = train_kfold_model(\n",
    "            train_model_fn=functools.partial(train_model_fn, param_dict),\n",
    "            fold_list=FOLD_LIST)\n",
    "        if best_score_list is None or statistics.mean(best_score_list) > statistics.mean(iter_score_list):\n",
    "            best_param_dict = param_dict\n",
    "            best_score_list = iter_score_list\n",
    "            best_pred_dict = iter_pred_dict\n",
    "            it.set_description(f'Best score: {statistics.mean(best_score_list):.4f}. Params: {param_str}')\n",
    "    assert best_param_dict is not None\n",
    "    assert best_score_list is not None\n",
    "    assert best_pred_dict is not None\n",
    "    return best_param_dict, best_score_list, best_pred_dict\n"
   ]
  },
  {
   "cell_type": "code",
   "execution_count": 8,
   "metadata": {},
   "outputs": [],
   "source": [
    "class _XGBoostTrainer:\n",
    "    _FEATURES_TO_EXCLUDE_SET = {\n",
    "        'text_id',\n",
    "        'full_text',\n",
    "        'cohesion',\n",
    "        'syntax',\n",
    "        'vocabulary',\n",
    "        'phraseology',\n",
    "        'grammar',\n",
    "        'conventions',\n",
    "        'fold',\n",
    "    }\n",
    "\n",
    "    target: str\n",
    "\n",
    "    def __init__(self, model_param_dict: t.Dict[str, t.Any]):\n",
    "        self._model_param_dict = model_param_dict\n",
    "        self._fold_to_feature_importance: t.Dict[int, t.Dict[str, float]] = {}\n",
    "\n",
    "    def get_feature_importance(self, fold: int) -> t.Dict[str, float]:\n",
    "        return self._fold_to_feature_importance[fold]\n",
    "\n",
    "    def _is_feature_included(self, feature_name: str) -> bool:\n",
    "        return feature_name not in self._FEATURES_TO_EXCLUDE_SET\n",
    "\n",
    "    def _get_model(self) -> XGBRegressor:\n",
    "        return XGBRegressor(\n",
    "            tree_method='gpu_hist',\n",
    "            objective='reg:squarederror',\n",
    "            **self._model_param_dict)\n",
    "\n",
    "    def _convert_df_to_xy(self, df: pd.DataFrame) -> t.Tuple[np.ndarray, np.ndarray, t.List[str]]:\n",
    "        feature_name_list = [\n",
    "            col for col in t.cast(t.List[str], df.columns)\n",
    "            if self._is_feature_included(col)\n",
    "        ]\n",
    "        x = df[feature_name_list].values\n",
    "        y = df[self.target].values\n",
    "        return x, y, feature_name_list  # type: ignore\n",
    "\n",
    "    def __call__(self, fold: int) -> t.Tuple[float, PredDict]:\n",
    "        train_df, valid_df = all_df[all_df['fold'] != fold], all_df[all_df['fold'] == fold]\n",
    "        train_x, train_y, feature_name_list = self._convert_df_to_xy(train_df)\n",
    "        valid_x, valid_y, _ = self._convert_df_to_xy(valid_df)\n",
    "\n",
    "        booster = self._get_model()\n",
    "        booster.fit(X=train_x, y=train_y, eval_set=[(valid_x, valid_y)])\n",
    "        valid_y_pred = booster.predict(valid_x)\n",
    "    \n",
    "        self._fold_to_feature_importance[fold] = dict(zip(feature_name_list, booster.feature_importances_))\n",
    "\n",
    "        score = math.sqrt(mean_squared_error(y_true=valid_y, y_pred=valid_y_pred))\n",
    "\n",
    "        return score, PredDict(zip(valid_df['text_id'].tolist(), valid_y_pred))\n",
    "\n",
    "\n",
    "class _VocabularyXGBoostTrainer(_XGBoostTrainer):\n",
    "    target = 'vocabulary'\n",
    "\n",
    "    def _is_feature_included(self, feature_name: str) -> bool:\n",
    "        return super()._is_feature_included(feature_name) and not feature_name.endswith('_l1')\n",
    "\n",
    "\n",
    "# param_dict, score_list, oof_pred_dict = grid_search(\n",
    "#     train_model_fn=lambda param_dict, fold: _VocabularyXGBoostTrainer(param_dict)(fold),\n",
    "#     param_plan={\n",
    "#         # 'gamma': [1e-3, 1e-4, 1e-5],\n",
    "#         'max_depth': [2, 3, 4, 5],\n",
    "#         'n_estimators': [300, 600, 900, 1200],\n",
    "#         'learning_rate': [1e-2, 75e-3, 5e-2, 25e-3],\n",
    "#     })\n",
    "# print(f'Best params: {param_dict}')\n",
    "# score_list, oof_pred_dict= train_kfold_model(\n",
    "#         train_model_fn=_VocabularyXGBoostTrainer({\n",
    "#             'max_depth': 3,\n",
    "#             'n_estimators': 1000,\n",
    "#             'learning_rate': 5e-2,\n",
    "#         }),\n",
    "#         fold_list=[0])\n",
    "# if OOF_PATH is not None:\n",
    "#     oof_pred_dict.save_to_csv(\n",
    "#         OOF_PATH,\n",
    "#         score_col_name_list=[f'{target}_score' for target in TARGET_LIST])\n",
    "# build_fold_result_df(fold_list=FOLD_LIST, score_list=score_list)"
   ]
  },
  {
   "cell_type": "markdown",
   "metadata": {},
   "source": [
    "#### Catboost"
   ]
  },
  {
   "cell_type": "code",
   "execution_count": 11,
   "metadata": {},
   "outputs": [
    {
     "data": {
      "application/vnd.jupyter.widget-view+json": {
       "model_id": "50d155bded174c2c9d87c83f70c6f097",
       "version_major": 2,
       "version_minor": 0
      },
      "text/plain": [
       "MetricVisualizer(layout=Layout(align_self='stretch', height='500px'))"
      ]
     },
     "metadata": {},
     "output_type": "display_data"
    },
    {
     "data": {
      "application/vnd.plotly.v1+json": {
       "config": {
        "plotlyServerURL": "https://plot.ly"
       },
       "data": [
        {
         "line": {
          "color": "rgb(51,160,44)"
         },
         "mode": "lines+markers",
         "name": "",
         "text": [
          "",
          "4",
          "58",
          "32",
          "3",
          "25",
          "14",
          "16",
          "48",
          "28",
          "51",
          "50",
          "9",
          "33",
          "56",
          "13",
          "20",
          "22",
          "19",
          "52",
          "8",
          "7",
          "53",
          "29",
          "10",
          "57",
          "40",
          "46",
          "11",
          "41",
          "23",
          "42",
          "45",
          "59",
          "49",
          "6",
          "12",
          "17",
          "24",
          "21",
          "26",
          "54"
         ],
         "type": "scatter",
         "x": [
          0,
          1,
          2,
          3,
          4,
          5,
          6,
          7,
          8,
          9,
          10,
          11,
          12,
          13,
          14,
          15,
          16,
          17,
          18,
          19,
          20,
          21,
          22,
          23,
          24,
          25,
          26,
          27,
          28,
          29,
          30,
          31,
          32,
          33,
          34,
          35,
          36,
          37,
          38,
          39,
          40,
          41
         ],
         "y": [
          0.4699222631483151,
          0.46906758348751,
          0.4683911588084569,
          0.46787970268375684,
          0.4673964427182057,
          0.46703393050313474,
          0.4668323617470828,
          0.4666468357876534,
          0.46649870478787225,
          0.4663821424811493,
          0.46627408890358624,
          0.46617402312818745,
          0.4660787788533424,
          0.46598779613974256,
          0.4659140684692674,
          0.4658541339151334,
          0.4657986248297224,
          0.46575588389344,
          0.4657148452868586,
          0.4656843860228428,
          0.4655417614217281,
          0.46540306978052703,
          0.46529794617785775,
          0.46523166939713234,
          0.46517567700842777,
          0.4651236483442533,
          0.46508143002307323,
          0.465040071135643,
          0.4650038818379827,
          0.46498057504668006,
          0.46496000762980405,
          0.4649401034730052,
          0.46492562776747814,
          0.4644785835786146,
          0.4642481158287503,
          0.4642481158287503,
          0.4642481158287503,
          0.4642481158287503,
          0.4642481158287503,
          0.4642481158287503,
          0.4642481158287503,
          0.4642819307264669
         ]
        },
        {
         "marker": {
          "size": 10,
          "symbol": "square"
         },
         "mode": "markers",
         "name": "",
         "text": [
          "",
          "52",
          "45",
          "54"
         ],
         "type": "scatter",
         "x": [
          0,
          19,
          32,
          41
         ],
         "y": [
          0.4699222631483151,
          0.4656843860228428,
          0.46492562776747814,
          0.4642819307264669
         ]
        },
        {
         "mode": "text",
         "name": "",
         "text": [
          "",
          "4",
          "58",
          "32",
          "3",
          "25",
          "14",
          "16",
          "48",
          "28",
          "51",
          "50",
          "9",
          "33",
          "56",
          "13",
          "20",
          "22",
          "19",
          "52",
          "8",
          "7",
          "53",
          "29",
          "10",
          "57",
          "40",
          "46",
          "11",
          "41",
          "23",
          "42",
          "45",
          "59",
          "49",
          "6",
          "12",
          "17",
          "24",
          "21",
          "26",
          "54"
         ],
         "textfont": {
          "color": "rgb(51,160,44)",
          "family": "sans serif",
          "size": 18
         },
         "textposition": "bottom center",
         "type": "scatter",
         "visible": false,
         "x": [
          0,
          1,
          2,
          3,
          4,
          5,
          6,
          7,
          8,
          9,
          10,
          11,
          12,
          13,
          14,
          15,
          16,
          17,
          18,
          19,
          20,
          21,
          22,
          23,
          24,
          25,
          26,
          27,
          28,
          29,
          30,
          31,
          32,
          33,
          34,
          35,
          36,
          37,
          38,
          39,
          40,
          41
         ],
         "y": [
          0.4699222631483151,
          0.46906758348751,
          0.4683911588084569,
          0.46787970268375684,
          0.4673964427182057,
          0.46703393050313474,
          0.4668323617470828,
          0.4666468357876534,
          0.46649870478787225,
          0.4663821424811493,
          0.46627408890358624,
          0.46617402312818745,
          0.4660787788533424,
          0.46598779613974256,
          0.4659140684692674,
          0.4658541339151334,
          0.4657986248297224,
          0.46575588389344,
          0.4657148452868586,
          0.4656843860228428,
          0.4655417614217281,
          0.46540306978052703,
          0.46529794617785775,
          0.46523166939713234,
          0.46517567700842777,
          0.4651236483442533,
          0.46508143002307323,
          0.465040071135643,
          0.4650038818379827,
          0.46498057504668006,
          0.46496000762980405,
          0.4649401034730052,
          0.46492562776747814,
          0.4644785835786146,
          0.4642481158287503,
          0.4642481158287503,
          0.4642481158287503,
          0.4642481158287503,
          0.4642481158287503,
          0.4642481158287503,
          0.4642481158287503,
          0.4642819307264669
         ]
        }
       ],
       "layout": {
        "showlegend": false,
        "template": {
         "data": {
          "bar": [
           {
            "error_x": {
             "color": "#2a3f5f"
            },
            "error_y": {
             "color": "#2a3f5f"
            },
            "marker": {
             "line": {
              "color": "#E5ECF6",
              "width": 0.5
             },
             "pattern": {
              "fillmode": "overlay",
              "size": 10,
              "solidity": 0.2
             }
            },
            "type": "bar"
           }
          ],
          "barpolar": [
           {
            "marker": {
             "line": {
              "color": "#E5ECF6",
              "width": 0.5
             },
             "pattern": {
              "fillmode": "overlay",
              "size": 10,
              "solidity": 0.2
             }
            },
            "type": "barpolar"
           }
          ],
          "carpet": [
           {
            "aaxis": {
             "endlinecolor": "#2a3f5f",
             "gridcolor": "white",
             "linecolor": "white",
             "minorgridcolor": "white",
             "startlinecolor": "#2a3f5f"
            },
            "baxis": {
             "endlinecolor": "#2a3f5f",
             "gridcolor": "white",
             "linecolor": "white",
             "minorgridcolor": "white",
             "startlinecolor": "#2a3f5f"
            },
            "type": "carpet"
           }
          ],
          "choropleth": [
           {
            "colorbar": {
             "outlinewidth": 0,
             "ticks": ""
            },
            "type": "choropleth"
           }
          ],
          "contour": [
           {
            "colorbar": {
             "outlinewidth": 0,
             "ticks": ""
            },
            "colorscale": [
             [
              0,
              "#0d0887"
             ],
             [
              0.1111111111111111,
              "#46039f"
             ],
             [
              0.2222222222222222,
              "#7201a8"
             ],
             [
              0.3333333333333333,
              "#9c179e"
             ],
             [
              0.4444444444444444,
              "#bd3786"
             ],
             [
              0.5555555555555556,
              "#d8576b"
             ],
             [
              0.6666666666666666,
              "#ed7953"
             ],
             [
              0.7777777777777778,
              "#fb9f3a"
             ],
             [
              0.8888888888888888,
              "#fdca26"
             ],
             [
              1,
              "#f0f921"
             ]
            ],
            "type": "contour"
           }
          ],
          "contourcarpet": [
           {
            "colorbar": {
             "outlinewidth": 0,
             "ticks": ""
            },
            "type": "contourcarpet"
           }
          ],
          "heatmap": [
           {
            "colorbar": {
             "outlinewidth": 0,
             "ticks": ""
            },
            "colorscale": [
             [
              0,
              "#0d0887"
             ],
             [
              0.1111111111111111,
              "#46039f"
             ],
             [
              0.2222222222222222,
              "#7201a8"
             ],
             [
              0.3333333333333333,
              "#9c179e"
             ],
             [
              0.4444444444444444,
              "#bd3786"
             ],
             [
              0.5555555555555556,
              "#d8576b"
             ],
             [
              0.6666666666666666,
              "#ed7953"
             ],
             [
              0.7777777777777778,
              "#fb9f3a"
             ],
             [
              0.8888888888888888,
              "#fdca26"
             ],
             [
              1,
              "#f0f921"
             ]
            ],
            "type": "heatmap"
           }
          ],
          "heatmapgl": [
           {
            "colorbar": {
             "outlinewidth": 0,
             "ticks": ""
            },
            "colorscale": [
             [
              0,
              "#0d0887"
             ],
             [
              0.1111111111111111,
              "#46039f"
             ],
             [
              0.2222222222222222,
              "#7201a8"
             ],
             [
              0.3333333333333333,
              "#9c179e"
             ],
             [
              0.4444444444444444,
              "#bd3786"
             ],
             [
              0.5555555555555556,
              "#d8576b"
             ],
             [
              0.6666666666666666,
              "#ed7953"
             ],
             [
              0.7777777777777778,
              "#fb9f3a"
             ],
             [
              0.8888888888888888,
              "#fdca26"
             ],
             [
              1,
              "#f0f921"
             ]
            ],
            "type": "heatmapgl"
           }
          ],
          "histogram": [
           {
            "marker": {
             "pattern": {
              "fillmode": "overlay",
              "size": 10,
              "solidity": 0.2
             }
            },
            "type": "histogram"
           }
          ],
          "histogram2d": [
           {
            "colorbar": {
             "outlinewidth": 0,
             "ticks": ""
            },
            "colorscale": [
             [
              0,
              "#0d0887"
             ],
             [
              0.1111111111111111,
              "#46039f"
             ],
             [
              0.2222222222222222,
              "#7201a8"
             ],
             [
              0.3333333333333333,
              "#9c179e"
             ],
             [
              0.4444444444444444,
              "#bd3786"
             ],
             [
              0.5555555555555556,
              "#d8576b"
             ],
             [
              0.6666666666666666,
              "#ed7953"
             ],
             [
              0.7777777777777778,
              "#fb9f3a"
             ],
             [
              0.8888888888888888,
              "#fdca26"
             ],
             [
              1,
              "#f0f921"
             ]
            ],
            "type": "histogram2d"
           }
          ],
          "histogram2dcontour": [
           {
            "colorbar": {
             "outlinewidth": 0,
             "ticks": ""
            },
            "colorscale": [
             [
              0,
              "#0d0887"
             ],
             [
              0.1111111111111111,
              "#46039f"
             ],
             [
              0.2222222222222222,
              "#7201a8"
             ],
             [
              0.3333333333333333,
              "#9c179e"
             ],
             [
              0.4444444444444444,
              "#bd3786"
             ],
             [
              0.5555555555555556,
              "#d8576b"
             ],
             [
              0.6666666666666666,
              "#ed7953"
             ],
             [
              0.7777777777777778,
              "#fb9f3a"
             ],
             [
              0.8888888888888888,
              "#fdca26"
             ],
             [
              1,
              "#f0f921"
             ]
            ],
            "type": "histogram2dcontour"
           }
          ],
          "mesh3d": [
           {
            "colorbar": {
             "outlinewidth": 0,
             "ticks": ""
            },
            "type": "mesh3d"
           }
          ],
          "parcoords": [
           {
            "line": {
             "colorbar": {
              "outlinewidth": 0,
              "ticks": ""
             }
            },
            "type": "parcoords"
           }
          ],
          "pie": [
           {
            "automargin": true,
            "type": "pie"
           }
          ],
          "scatter": [
           {
            "fillpattern": {
             "fillmode": "overlay",
             "size": 10,
             "solidity": 0.2
            },
            "type": "scatter"
           }
          ],
          "scatter3d": [
           {
            "line": {
             "colorbar": {
              "outlinewidth": 0,
              "ticks": ""
             }
            },
            "marker": {
             "colorbar": {
              "outlinewidth": 0,
              "ticks": ""
             }
            },
            "type": "scatter3d"
           }
          ],
          "scattercarpet": [
           {
            "marker": {
             "colorbar": {
              "outlinewidth": 0,
              "ticks": ""
             }
            },
            "type": "scattercarpet"
           }
          ],
          "scattergeo": [
           {
            "marker": {
             "colorbar": {
              "outlinewidth": 0,
              "ticks": ""
             }
            },
            "type": "scattergeo"
           }
          ],
          "scattergl": [
           {
            "marker": {
             "colorbar": {
              "outlinewidth": 0,
              "ticks": ""
             }
            },
            "type": "scattergl"
           }
          ],
          "scattermapbox": [
           {
            "marker": {
             "colorbar": {
              "outlinewidth": 0,
              "ticks": ""
             }
            },
            "type": "scattermapbox"
           }
          ],
          "scatterpolar": [
           {
            "marker": {
             "colorbar": {
              "outlinewidth": 0,
              "ticks": ""
             }
            },
            "type": "scatterpolar"
           }
          ],
          "scatterpolargl": [
           {
            "marker": {
             "colorbar": {
              "outlinewidth": 0,
              "ticks": ""
             }
            },
            "type": "scatterpolargl"
           }
          ],
          "scatterternary": [
           {
            "marker": {
             "colorbar": {
              "outlinewidth": 0,
              "ticks": ""
             }
            },
            "type": "scatterternary"
           }
          ],
          "surface": [
           {
            "colorbar": {
             "outlinewidth": 0,
             "ticks": ""
            },
            "colorscale": [
             [
              0,
              "#0d0887"
             ],
             [
              0.1111111111111111,
              "#46039f"
             ],
             [
              0.2222222222222222,
              "#7201a8"
             ],
             [
              0.3333333333333333,
              "#9c179e"
             ],
             [
              0.4444444444444444,
              "#bd3786"
             ],
             [
              0.5555555555555556,
              "#d8576b"
             ],
             [
              0.6666666666666666,
              "#ed7953"
             ],
             [
              0.7777777777777778,
              "#fb9f3a"
             ],
             [
              0.8888888888888888,
              "#fdca26"
             ],
             [
              1,
              "#f0f921"
             ]
            ],
            "type": "surface"
           }
          ],
          "table": [
           {
            "cells": {
             "fill": {
              "color": "#EBF0F8"
             },
             "line": {
              "color": "white"
             }
            },
            "header": {
             "fill": {
              "color": "#C8D4E3"
             },
             "line": {
              "color": "white"
             }
            },
            "type": "table"
           }
          ]
         },
         "layout": {
          "annotationdefaults": {
           "arrowcolor": "#2a3f5f",
           "arrowhead": 0,
           "arrowwidth": 1
          },
          "autotypenumbers": "strict",
          "coloraxis": {
           "colorbar": {
            "outlinewidth": 0,
            "ticks": ""
           }
          },
          "colorscale": {
           "diverging": [
            [
             0,
             "#8e0152"
            ],
            [
             0.1,
             "#c51b7d"
            ],
            [
             0.2,
             "#de77ae"
            ],
            [
             0.3,
             "#f1b6da"
            ],
            [
             0.4,
             "#fde0ef"
            ],
            [
             0.5,
             "#f7f7f7"
            ],
            [
             0.6,
             "#e6f5d0"
            ],
            [
             0.7,
             "#b8e186"
            ],
            [
             0.8,
             "#7fbc41"
            ],
            [
             0.9,
             "#4d9221"
            ],
            [
             1,
             "#276419"
            ]
           ],
           "sequential": [
            [
             0,
             "#0d0887"
            ],
            [
             0.1111111111111111,
             "#46039f"
            ],
            [
             0.2222222222222222,
             "#7201a8"
            ],
            [
             0.3333333333333333,
             "#9c179e"
            ],
            [
             0.4444444444444444,
             "#bd3786"
            ],
            [
             0.5555555555555556,
             "#d8576b"
            ],
            [
             0.6666666666666666,
             "#ed7953"
            ],
            [
             0.7777777777777778,
             "#fb9f3a"
            ],
            [
             0.8888888888888888,
             "#fdca26"
            ],
            [
             1,
             "#f0f921"
            ]
           ],
           "sequentialminus": [
            [
             0,
             "#0d0887"
            ],
            [
             0.1111111111111111,
             "#46039f"
            ],
            [
             0.2222222222222222,
             "#7201a8"
            ],
            [
             0.3333333333333333,
             "#9c179e"
            ],
            [
             0.4444444444444444,
             "#bd3786"
            ],
            [
             0.5555555555555556,
             "#d8576b"
            ],
            [
             0.6666666666666666,
             "#ed7953"
            ],
            [
             0.7777777777777778,
             "#fb9f3a"
            ],
            [
             0.8888888888888888,
             "#fdca26"
            ],
            [
             1,
             "#f0f921"
            ]
           ]
          },
          "colorway": [
           "#636efa",
           "#EF553B",
           "#00cc96",
           "#ab63fa",
           "#FFA15A",
           "#19d3f3",
           "#FF6692",
           "#B6E880",
           "#FF97FF",
           "#FECB52"
          ],
          "font": {
           "color": "#2a3f5f"
          },
          "geo": {
           "bgcolor": "white",
           "lakecolor": "white",
           "landcolor": "#E5ECF6",
           "showlakes": true,
           "showland": true,
           "subunitcolor": "white"
          },
          "hoverlabel": {
           "align": "left"
          },
          "hovermode": "closest",
          "mapbox": {
           "style": "light"
          },
          "paper_bgcolor": "white",
          "plot_bgcolor": "#E5ECF6",
          "polar": {
           "angularaxis": {
            "gridcolor": "white",
            "linecolor": "white",
            "ticks": ""
           },
           "bgcolor": "#E5ECF6",
           "radialaxis": {
            "gridcolor": "white",
            "linecolor": "white",
            "ticks": ""
           }
          },
          "scene": {
           "xaxis": {
            "backgroundcolor": "#E5ECF6",
            "gridcolor": "white",
            "gridwidth": 2,
            "linecolor": "white",
            "showbackground": true,
            "ticks": "",
            "zerolinecolor": "white"
           },
           "yaxis": {
            "backgroundcolor": "#E5ECF6",
            "gridcolor": "white",
            "gridwidth": 2,
            "linecolor": "white",
            "showbackground": true,
            "ticks": "",
            "zerolinecolor": "white"
           },
           "zaxis": {
            "backgroundcolor": "#E5ECF6",
            "gridcolor": "white",
            "gridwidth": 2,
            "linecolor": "white",
            "showbackground": true,
            "ticks": "",
            "zerolinecolor": "white"
           }
          },
          "shapedefaults": {
           "line": {
            "color": "#2a3f5f"
           }
          },
          "ternary": {
           "aaxis": {
            "gridcolor": "white",
            "linecolor": "white",
            "ticks": ""
           },
           "baxis": {
            "gridcolor": "white",
            "linecolor": "white",
            "ticks": ""
           },
           "bgcolor": "#E5ECF6",
           "caxis": {
            "gridcolor": "white",
            "linecolor": "white",
            "ticks": ""
           }
          },
          "title": {
           "x": 0.05
          },
          "xaxis": {
           "automargin": true,
           "gridcolor": "white",
           "linecolor": "white",
           "ticks": "",
           "title": {
            "standoff": 15
           },
           "zerolinecolor": "white",
           "zerolinewidth": 2
          },
          "yaxis": {
           "automargin": true,
           "gridcolor": "white",
           "linecolor": "white",
           "ticks": "",
           "title": {
            "standoff": 15
           },
           "zerolinecolor": "white",
           "zerolinewidth": 2
          }
         }
        },
        "title": {
         "text": "Loss by eliminated features"
        },
        "updatemenus": [
         {
          "active": 0,
          "buttons": [
           {
            "args": [
             {
              "visible": [
               true,
               true,
               false
              ]
             }
            ],
            "label": "Hide features",
            "method": "update"
           },
           {
            "args": [
             {
              "visible": [
               true,
               true,
               true
              ]
             }
            ],
            "label": "Show indices",
            "method": "update"
           }
          ],
          "pad": {
           "r": 10,
           "t": 10
          },
          "showactive": true,
          "x": -0.25,
          "xanchor": "left",
          "y": 1.03,
          "yanchor": "top"
         }
        ],
        "xaxis": {
         "gridcolor": "rgb(255,255,255)",
         "showgrid": true,
         "showline": false,
         "showticklabels": true,
         "tickcolor": "rgb(127,127,127)",
         "ticks": "outside",
         "title": {
          "text": "number of removed features"
         },
         "zeroline": false
        },
        "yaxis": {
         "gridcolor": "rgb(255,255,255)",
         "showgrid": true,
         "showline": false,
         "showticklabels": true,
         "tickcolor": "rgb(127,127,127)",
         "tickfont": {
          "color": "rgb(51,160,44)"
         },
         "ticks": "outside",
         "title": {
          "font": {
           "color": "rgb(51,160,44)"
          },
          "text": "loss value"
         },
         "zeroline": false
        }
       }
      },
      "text/html": [
       "<div>                            <div id=\"c9a50a04-5d41-4654-8f9b-b9b177b5d0a0\" class=\"plotly-graph-div\" style=\"height:525px; width:100%;\"></div>            <script type=\"text/javascript\">                require([\"plotly\"], function(Plotly) {                    window.PLOTLYENV=window.PLOTLYENV || {};                                    if (document.getElementById(\"c9a50a04-5d41-4654-8f9b-b9b177b5d0a0\")) {                    Plotly.newPlot(                        \"c9a50a04-5d41-4654-8f9b-b9b177b5d0a0\",                        [{\"line\":{\"color\":\"rgb(51,160,44)\"},\"mode\":\"lines+markers\",\"name\":\"\",\"text\":[\"\",\"4\",\"58\",\"32\",\"3\",\"25\",\"14\",\"16\",\"48\",\"28\",\"51\",\"50\",\"9\",\"33\",\"56\",\"13\",\"20\",\"22\",\"19\",\"52\",\"8\",\"7\",\"53\",\"29\",\"10\",\"57\",\"40\",\"46\",\"11\",\"41\",\"23\",\"42\",\"45\",\"59\",\"49\",\"6\",\"12\",\"17\",\"24\",\"21\",\"26\",\"54\"],\"x\":[0,1,2,3,4,5,6,7,8,9,10,11,12,13,14,15,16,17,18,19,20,21,22,23,24,25,26,27,28,29,30,31,32,33,34,35,36,37,38,39,40,41],\"y\":[0.4699222631483151,0.46906758348751,0.4683911588084569,0.46787970268375684,0.4673964427182057,0.46703393050313474,0.4668323617470828,0.4666468357876534,0.46649870478787225,0.4663821424811493,0.46627408890358624,0.46617402312818745,0.4660787788533424,0.46598779613974256,0.4659140684692674,0.4658541339151334,0.4657986248297224,0.46575588389344,0.4657148452868586,0.4656843860228428,0.4655417614217281,0.46540306978052703,0.46529794617785775,0.46523166939713234,0.46517567700842777,0.4651236483442533,0.46508143002307323,0.465040071135643,0.4650038818379827,0.46498057504668006,0.46496000762980405,0.4649401034730052,0.46492562776747814,0.4644785835786146,0.4642481158287503,0.4642481158287503,0.4642481158287503,0.4642481158287503,0.4642481158287503,0.4642481158287503,0.4642481158287503,0.4642819307264669],\"type\":\"scatter\"},{\"marker\":{\"size\":10,\"symbol\":\"square\"},\"mode\":\"markers\",\"name\":\"\",\"text\":[\"\",\"52\",\"45\",\"54\"],\"x\":[0,19,32,41],\"y\":[0.4699222631483151,0.4656843860228428,0.46492562776747814,0.4642819307264669],\"type\":\"scatter\"},{\"mode\":\"text\",\"name\":\"\",\"text\":[\"\",\"4\",\"58\",\"32\",\"3\",\"25\",\"14\",\"16\",\"48\",\"28\",\"51\",\"50\",\"9\",\"33\",\"56\",\"13\",\"20\",\"22\",\"19\",\"52\",\"8\",\"7\",\"53\",\"29\",\"10\",\"57\",\"40\",\"46\",\"11\",\"41\",\"23\",\"42\",\"45\",\"59\",\"49\",\"6\",\"12\",\"17\",\"24\",\"21\",\"26\",\"54\"],\"textfont\":{\"color\":\"rgb(51,160,44)\",\"family\":\"sans serif\",\"size\":18},\"textposition\":\"bottom center\",\"visible\":false,\"x\":[0,1,2,3,4,5,6,7,8,9,10,11,12,13,14,15,16,17,18,19,20,21,22,23,24,25,26,27,28,29,30,31,32,33,34,35,36,37,38,39,40,41],\"y\":[0.4699222631483151,0.46906758348751,0.4683911588084569,0.46787970268375684,0.4673964427182057,0.46703393050313474,0.4668323617470828,0.4666468357876534,0.46649870478787225,0.4663821424811493,0.46627408890358624,0.46617402312818745,0.4660787788533424,0.46598779613974256,0.4659140684692674,0.4658541339151334,0.4657986248297224,0.46575588389344,0.4657148452868586,0.4656843860228428,0.4655417614217281,0.46540306978052703,0.46529794617785775,0.46523166939713234,0.46517567700842777,0.4651236483442533,0.46508143002307323,0.465040071135643,0.4650038818379827,0.46498057504668006,0.46496000762980405,0.4649401034730052,0.46492562776747814,0.4644785835786146,0.4642481158287503,0.4642481158287503,0.4642481158287503,0.4642481158287503,0.4642481158287503,0.4642481158287503,0.4642481158287503,0.4642819307264669],\"type\":\"scatter\"}],                        {\"template\":{\"data\":{\"histogram2dcontour\":[{\"type\":\"histogram2dcontour\",\"colorbar\":{\"outlinewidth\":0,\"ticks\":\"\"},\"colorscale\":[[0.0,\"#0d0887\"],[0.1111111111111111,\"#46039f\"],[0.2222222222222222,\"#7201a8\"],[0.3333333333333333,\"#9c179e\"],[0.4444444444444444,\"#bd3786\"],[0.5555555555555556,\"#d8576b\"],[0.6666666666666666,\"#ed7953\"],[0.7777777777777778,\"#fb9f3a\"],[0.8888888888888888,\"#fdca26\"],[1.0,\"#f0f921\"]]}],\"choropleth\":[{\"type\":\"choropleth\",\"colorbar\":{\"outlinewidth\":0,\"ticks\":\"\"}}],\"histogram2d\":[{\"type\":\"histogram2d\",\"colorbar\":{\"outlinewidth\":0,\"ticks\":\"\"},\"colorscale\":[[0.0,\"#0d0887\"],[0.1111111111111111,\"#46039f\"],[0.2222222222222222,\"#7201a8\"],[0.3333333333333333,\"#9c179e\"],[0.4444444444444444,\"#bd3786\"],[0.5555555555555556,\"#d8576b\"],[0.6666666666666666,\"#ed7953\"],[0.7777777777777778,\"#fb9f3a\"],[0.8888888888888888,\"#fdca26\"],[1.0,\"#f0f921\"]]}],\"heatmap\":[{\"type\":\"heatmap\",\"colorbar\":{\"outlinewidth\":0,\"ticks\":\"\"},\"colorscale\":[[0.0,\"#0d0887\"],[0.1111111111111111,\"#46039f\"],[0.2222222222222222,\"#7201a8\"],[0.3333333333333333,\"#9c179e\"],[0.4444444444444444,\"#bd3786\"],[0.5555555555555556,\"#d8576b\"],[0.6666666666666666,\"#ed7953\"],[0.7777777777777778,\"#fb9f3a\"],[0.8888888888888888,\"#fdca26\"],[1.0,\"#f0f921\"]]}],\"heatmapgl\":[{\"type\":\"heatmapgl\",\"colorbar\":{\"outlinewidth\":0,\"ticks\":\"\"},\"colorscale\":[[0.0,\"#0d0887\"],[0.1111111111111111,\"#46039f\"],[0.2222222222222222,\"#7201a8\"],[0.3333333333333333,\"#9c179e\"],[0.4444444444444444,\"#bd3786\"],[0.5555555555555556,\"#d8576b\"],[0.6666666666666666,\"#ed7953\"],[0.7777777777777778,\"#fb9f3a\"],[0.8888888888888888,\"#fdca26\"],[1.0,\"#f0f921\"]]}],\"contourcarpet\":[{\"type\":\"contourcarpet\",\"colorbar\":{\"outlinewidth\":0,\"ticks\":\"\"}}],\"contour\":[{\"type\":\"contour\",\"colorbar\":{\"outlinewidth\":0,\"ticks\":\"\"},\"colorscale\":[[0.0,\"#0d0887\"],[0.1111111111111111,\"#46039f\"],[0.2222222222222222,\"#7201a8\"],[0.3333333333333333,\"#9c179e\"],[0.4444444444444444,\"#bd3786\"],[0.5555555555555556,\"#d8576b\"],[0.6666666666666666,\"#ed7953\"],[0.7777777777777778,\"#fb9f3a\"],[0.8888888888888888,\"#fdca26\"],[1.0,\"#f0f921\"]]}],\"surface\":[{\"type\":\"surface\",\"colorbar\":{\"outlinewidth\":0,\"ticks\":\"\"},\"colorscale\":[[0.0,\"#0d0887\"],[0.1111111111111111,\"#46039f\"],[0.2222222222222222,\"#7201a8\"],[0.3333333333333333,\"#9c179e\"],[0.4444444444444444,\"#bd3786\"],[0.5555555555555556,\"#d8576b\"],[0.6666666666666666,\"#ed7953\"],[0.7777777777777778,\"#fb9f3a\"],[0.8888888888888888,\"#fdca26\"],[1.0,\"#f0f921\"]]}],\"mesh3d\":[{\"type\":\"mesh3d\",\"colorbar\":{\"outlinewidth\":0,\"ticks\":\"\"}}],\"scatter\":[{\"fillpattern\":{\"fillmode\":\"overlay\",\"size\":10,\"solidity\":0.2},\"type\":\"scatter\"}],\"parcoords\":[{\"type\":\"parcoords\",\"line\":{\"colorbar\":{\"outlinewidth\":0,\"ticks\":\"\"}}}],\"scatterpolargl\":[{\"type\":\"scatterpolargl\",\"marker\":{\"colorbar\":{\"outlinewidth\":0,\"ticks\":\"\"}}}],\"bar\":[{\"error_x\":{\"color\":\"#2a3f5f\"},\"error_y\":{\"color\":\"#2a3f5f\"},\"marker\":{\"line\":{\"color\":\"#E5ECF6\",\"width\":0.5},\"pattern\":{\"fillmode\":\"overlay\",\"size\":10,\"solidity\":0.2}},\"type\":\"bar\"}],\"scattergeo\":[{\"type\":\"scattergeo\",\"marker\":{\"colorbar\":{\"outlinewidth\":0,\"ticks\":\"\"}}}],\"scatterpolar\":[{\"type\":\"scatterpolar\",\"marker\":{\"colorbar\":{\"outlinewidth\":0,\"ticks\":\"\"}}}],\"histogram\":[{\"marker\":{\"pattern\":{\"fillmode\":\"overlay\",\"size\":10,\"solidity\":0.2}},\"type\":\"histogram\"}],\"scattergl\":[{\"type\":\"scattergl\",\"marker\":{\"colorbar\":{\"outlinewidth\":0,\"ticks\":\"\"}}}],\"scatter3d\":[{\"type\":\"scatter3d\",\"line\":{\"colorbar\":{\"outlinewidth\":0,\"ticks\":\"\"}},\"marker\":{\"colorbar\":{\"outlinewidth\":0,\"ticks\":\"\"}}}],\"scattermapbox\":[{\"type\":\"scattermapbox\",\"marker\":{\"colorbar\":{\"outlinewidth\":0,\"ticks\":\"\"}}}],\"scatterternary\":[{\"type\":\"scatterternary\",\"marker\":{\"colorbar\":{\"outlinewidth\":0,\"ticks\":\"\"}}}],\"scattercarpet\":[{\"type\":\"scattercarpet\",\"marker\":{\"colorbar\":{\"outlinewidth\":0,\"ticks\":\"\"}}}],\"carpet\":[{\"aaxis\":{\"endlinecolor\":\"#2a3f5f\",\"gridcolor\":\"white\",\"linecolor\":\"white\",\"minorgridcolor\":\"white\",\"startlinecolor\":\"#2a3f5f\"},\"baxis\":{\"endlinecolor\":\"#2a3f5f\",\"gridcolor\":\"white\",\"linecolor\":\"white\",\"minorgridcolor\":\"white\",\"startlinecolor\":\"#2a3f5f\"},\"type\":\"carpet\"}],\"table\":[{\"cells\":{\"fill\":{\"color\":\"#EBF0F8\"},\"line\":{\"color\":\"white\"}},\"header\":{\"fill\":{\"color\":\"#C8D4E3\"},\"line\":{\"color\":\"white\"}},\"type\":\"table\"}],\"barpolar\":[{\"marker\":{\"line\":{\"color\":\"#E5ECF6\",\"width\":0.5},\"pattern\":{\"fillmode\":\"overlay\",\"size\":10,\"solidity\":0.2}},\"type\":\"barpolar\"}],\"pie\":[{\"automargin\":true,\"type\":\"pie\"}]},\"layout\":{\"autotypenumbers\":\"strict\",\"colorway\":[\"#636efa\",\"#EF553B\",\"#00cc96\",\"#ab63fa\",\"#FFA15A\",\"#19d3f3\",\"#FF6692\",\"#B6E880\",\"#FF97FF\",\"#FECB52\"],\"font\":{\"color\":\"#2a3f5f\"},\"hovermode\":\"closest\",\"hoverlabel\":{\"align\":\"left\"},\"paper_bgcolor\":\"white\",\"plot_bgcolor\":\"#E5ECF6\",\"polar\":{\"bgcolor\":\"#E5ECF6\",\"angularaxis\":{\"gridcolor\":\"white\",\"linecolor\":\"white\",\"ticks\":\"\"},\"radialaxis\":{\"gridcolor\":\"white\",\"linecolor\":\"white\",\"ticks\":\"\"}},\"ternary\":{\"bgcolor\":\"#E5ECF6\",\"aaxis\":{\"gridcolor\":\"white\",\"linecolor\":\"white\",\"ticks\":\"\"},\"baxis\":{\"gridcolor\":\"white\",\"linecolor\":\"white\",\"ticks\":\"\"},\"caxis\":{\"gridcolor\":\"white\",\"linecolor\":\"white\",\"ticks\":\"\"}},\"coloraxis\":{\"colorbar\":{\"outlinewidth\":0,\"ticks\":\"\"}},\"colorscale\":{\"sequential\":[[0.0,\"#0d0887\"],[0.1111111111111111,\"#46039f\"],[0.2222222222222222,\"#7201a8\"],[0.3333333333333333,\"#9c179e\"],[0.4444444444444444,\"#bd3786\"],[0.5555555555555556,\"#d8576b\"],[0.6666666666666666,\"#ed7953\"],[0.7777777777777778,\"#fb9f3a\"],[0.8888888888888888,\"#fdca26\"],[1.0,\"#f0f921\"]],\"sequentialminus\":[[0.0,\"#0d0887\"],[0.1111111111111111,\"#46039f\"],[0.2222222222222222,\"#7201a8\"],[0.3333333333333333,\"#9c179e\"],[0.4444444444444444,\"#bd3786\"],[0.5555555555555556,\"#d8576b\"],[0.6666666666666666,\"#ed7953\"],[0.7777777777777778,\"#fb9f3a\"],[0.8888888888888888,\"#fdca26\"],[1.0,\"#f0f921\"]],\"diverging\":[[0,\"#8e0152\"],[0.1,\"#c51b7d\"],[0.2,\"#de77ae\"],[0.3,\"#f1b6da\"],[0.4,\"#fde0ef\"],[0.5,\"#f7f7f7\"],[0.6,\"#e6f5d0\"],[0.7,\"#b8e186\"],[0.8,\"#7fbc41\"],[0.9,\"#4d9221\"],[1,\"#276419\"]]},\"xaxis\":{\"gridcolor\":\"white\",\"linecolor\":\"white\",\"ticks\":\"\",\"title\":{\"standoff\":15},\"zerolinecolor\":\"white\",\"automargin\":true,\"zerolinewidth\":2},\"yaxis\":{\"gridcolor\":\"white\",\"linecolor\":\"white\",\"ticks\":\"\",\"title\":{\"standoff\":15},\"zerolinecolor\":\"white\",\"automargin\":true,\"zerolinewidth\":2},\"scene\":{\"xaxis\":{\"backgroundcolor\":\"#E5ECF6\",\"gridcolor\":\"white\",\"linecolor\":\"white\",\"showbackground\":true,\"ticks\":\"\",\"zerolinecolor\":\"white\",\"gridwidth\":2},\"yaxis\":{\"backgroundcolor\":\"#E5ECF6\",\"gridcolor\":\"white\",\"linecolor\":\"white\",\"showbackground\":true,\"ticks\":\"\",\"zerolinecolor\":\"white\",\"gridwidth\":2},\"zaxis\":{\"backgroundcolor\":\"#E5ECF6\",\"gridcolor\":\"white\",\"linecolor\":\"white\",\"showbackground\":true,\"ticks\":\"\",\"zerolinecolor\":\"white\",\"gridwidth\":2}},\"shapedefaults\":{\"line\":{\"color\":\"#2a3f5f\"}},\"annotationdefaults\":{\"arrowcolor\":\"#2a3f5f\",\"arrowhead\":0,\"arrowwidth\":1},\"geo\":{\"bgcolor\":\"white\",\"landcolor\":\"#E5ECF6\",\"subunitcolor\":\"white\",\"showland\":true,\"showlakes\":true,\"lakecolor\":\"white\"},\"title\":{\"x\":0.05},\"mapbox\":{\"style\":\"light\"}}},\"title\":{\"text\":\"Loss by eliminated features\"},\"xaxis\":{\"title\":{\"text\":\"number of removed features\"},\"gridcolor\":\"rgb(255,255,255)\",\"showgrid\":true,\"showline\":false,\"showticklabels\":true,\"tickcolor\":\"rgb(127,127,127)\",\"ticks\":\"outside\",\"zeroline\":false},\"yaxis\":{\"title\":{\"text\":\"loss value\",\"font\":{\"color\":\"rgb(51,160,44)\"}},\"tickfont\":{\"color\":\"rgb(51,160,44)\"},\"gridcolor\":\"rgb(255,255,255)\",\"showgrid\":true,\"showline\":false,\"showticklabels\":true,\"tickcolor\":\"rgb(127,127,127)\",\"ticks\":\"outside\",\"zeroline\":false},\"updatemenus\":[{\"active\":0,\"buttons\":[{\"args\":[{\"visible\":[true,true,false]}],\"label\":\"Hide features\",\"method\":\"update\"},{\"args\":[{\"visible\":[true,true,true]}],\"label\":\"Show indices\",\"method\":\"update\"}],\"pad\":{\"r\":10,\"t\":10},\"showactive\":true,\"x\":-0.25,\"xanchor\":\"left\",\"y\":1.03,\"yanchor\":\"top\"}],\"showlegend\":false},                        {\"responsive\": true}                    ).then(function(){\n",
       "                            \n",
       "var gd = document.getElementById('c9a50a04-5d41-4654-8f9b-b9b177b5d0a0');\n",
       "var x = new MutationObserver(function (mutations, observer) {{\n",
       "        var display = window.getComputedStyle(gd).display;\n",
       "        if (!display || display === 'none') {{\n",
       "            console.log([gd, 'removed!']);\n",
       "            Plotly.purge(gd);\n",
       "            observer.disconnect();\n",
       "        }}\n",
       "}});\n",
       "\n",
       "// Listen for the removal of the full notebook cells\n",
       "var notebookContainer = gd.closest('#notebook-container');\n",
       "if (notebookContainer) {{\n",
       "    x.observe(notebookContainer, {childList: true});\n",
       "}}\n",
       "\n",
       "// Listen for the clearing of the current output cell\n",
       "var outputEl = gd.closest('.output');\n",
       "if (outputEl) {{\n",
       "    x.observe(outputEl, {childList: true});\n",
       "}}\n",
       "\n",
       "                        })                };                });            </script>        </div>"
      ]
     },
     "metadata": {},
     "output_type": "display_data"
    },
    {
     "data": {
      "application/vnd.jupyter.widget-view+json": {
       "model_id": "e5d950c5d8b44a238fbaa35ac9edf237",
       "version_major": 2,
       "version_minor": 0
      },
      "text/plain": [
       "MetricVisualizer(layout=Layout(align_self='stretch', height='500px'))"
      ]
     },
     "metadata": {},
     "output_type": "display_data"
    },
    {
     "data": {
      "application/vnd.jupyter.widget-view+json": {
       "model_id": "e202ba568488446c8aaf340707b170df",
       "version_major": 2,
       "version_minor": 0
      },
      "text/plain": [
       "MetricVisualizer(layout=Layout(align_self='stretch', height='500px'))"
      ]
     },
     "metadata": {},
     "output_type": "display_data"
    },
    {
     "data": {
      "application/vnd.jupyter.widget-view+json": {
       "model_id": "d509d7cfe19b4d53a29353c147f3f337",
       "version_major": 2,
       "version_minor": 0
      },
      "text/plain": [
       "MetricVisualizer(layout=Layout(align_self='stretch', height='500px'))"
      ]
     },
     "metadata": {},
     "output_type": "display_data"
    },
    {
     "data": {
      "application/vnd.jupyter.widget-view+json": {
       "model_id": "acf0d58da738433f93fa982921aa6e1f",
       "version_major": 2,
       "version_minor": 0
      },
      "text/plain": [
       "MetricVisualizer(layout=Layout(align_self='stretch', height='500px'))"
      ]
     },
     "metadata": {},
     "output_type": "display_data"
    },
    {
     "data": {
      "application/vnd.jupyter.widget-view+json": {
       "model_id": "6dff28b1378a43a3bac2ff1c91d2d295",
       "version_major": 2,
       "version_minor": 0
      },
      "text/plain": [
       "MetricVisualizer(layout=Layout(align_self='stretch', height='500px'))"
      ]
     },
     "metadata": {},
     "output_type": "display_data"
    },
    {
     "name": "stdout",
     "output_type": "stream",
     "text": [
      "Mean score: 0.4760\n",
      "Features: {'lexicon_count', 'syntax_lvl1_score', 'reading_time', 'linsear_write_formula', 'vocabulary_lvl1_score', 'num_dots', 'syntax_grammar_lvl1_score_l1', 'ratio_newlines', 'conventions_lvl1_score', 'char_count', 'letter_count', 'vocabulary_phraseology_lvl1_score_l1', 'num_spaces', 'ratio_colons', 'syllable_count', 'num_newlines', 'ratio_dots', 'lvl1_mean', 'cohesion_lvl1_score', 'num_colons'}\n"
     ]
    },
    {
     "data": {
      "text/html": [
       "<div>\n",
       "<style scoped>\n",
       "    .dataframe tbody tr th:only-of-type {\n",
       "        vertical-align: middle;\n",
       "    }\n",
       "\n",
       "    .dataframe tbody tr th {\n",
       "        vertical-align: top;\n",
       "    }\n",
       "\n",
       "    .dataframe thead th {\n",
       "        text-align: right;\n",
       "    }\n",
       "</style>\n",
       "<table border=\"1\" class=\"dataframe\">\n",
       "  <thead>\n",
       "    <tr style=\"text-align: right;\">\n",
       "      <th></th>\n",
       "      <th>fold</th>\n",
       "      <th>score</th>\n",
       "    </tr>\n",
       "  </thead>\n",
       "  <tbody>\n",
       "    <tr>\n",
       "      <th>0</th>\n",
       "      <td>0</td>\n",
       "      <td>0.463983</td>\n",
       "    </tr>\n",
       "    <tr>\n",
       "      <th>1</th>\n",
       "      <td>1</td>\n",
       "      <td>0.486141</td>\n",
       "    </tr>\n",
       "    <tr>\n",
       "      <th>2</th>\n",
       "      <td>2</td>\n",
       "      <td>0.485832</td>\n",
       "    </tr>\n",
       "    <tr>\n",
       "      <th>3</th>\n",
       "      <td>3</td>\n",
       "      <td>0.465618</td>\n",
       "    </tr>\n",
       "    <tr>\n",
       "      <th>4</th>\n",
       "      <td>4</td>\n",
       "      <td>0.478464</td>\n",
       "    </tr>\n",
       "  </tbody>\n",
       "</table>\n",
       "</div>"
      ],
      "text/plain": [
       "   fold     score\n",
       "0     0  0.463983\n",
       "1     1  0.486141\n",
       "2     2  0.485832\n",
       "3     3  0.465618\n",
       "4     4  0.478464"
      ]
     },
     "execution_count": 11,
     "metadata": {},
     "output_type": "execute_result"
    }
   ],
   "source": [
    "class _CatboostTrainer:\n",
    "    _FEATURES_TO_EXCLUDE_SET = {\n",
    "        'text_id',\n",
    "        'full_text',\n",
    "        'cohesion',\n",
    "        'syntax',\n",
    "        'vocabulary',\n",
    "        'phraseology',\n",
    "        'grammar',\n",
    "        'conventions',\n",
    "        'fold',\n",
    "    }\n",
    "\n",
    "    target: str\n",
    "\n",
    "    def __init__(\n",
    "            self,\n",
    "            explicit_feature_whitelist: t.Optional[t.Set[str]] = None,\n",
    "            plot: bool = True,\n",
    "            model_path_template: t.Optional[Path] = None):\n",
    "        self._explicit_feature_whitelist = explicit_feature_whitelist\n",
    "        self._plot = plot\n",
    "        self._model_path_template = model_path_template\n",
    "\n",
    "    @property\n",
    "    def explicit_feature_whitelist(self) -> t.Optional[t.Set[str]]:\n",
    "        return self._explicit_feature_whitelist\n",
    "\n",
    "    def _is_feature_included(self, feature_name: str) -> bool:\n",
    "        if feature_name in self._FEATURES_TO_EXCLUDE_SET:\n",
    "            return False\n",
    "        return self._explicit_feature_whitelist is None or feature_name in self._explicit_feature_whitelist\n",
    "\n",
    "    def _get_model(self) -> CatBoostRegressor:\n",
    "        return CatBoostRegressor(\n",
    "            task_type='GPU',\n",
    "            random_seed=SEED,\n",
    "            loss_function='RMSE',\n",
    "        )\n",
    "\n",
    "    def _convert_df_to_xy(self, df: pd.DataFrame) -> t.Tuple[np.ndarray, np.ndarray, t.List[str]]:\n",
    "        feature_name_list = [\n",
    "            col for col in t.cast(t.List[str], df.columns)\n",
    "            if self._is_feature_included(col)\n",
    "        ]\n",
    "        x = df[feature_name_list].values\n",
    "        y = df[self.target].values\n",
    "        return x, y, feature_name_list  # type: ignore\n",
    "\n",
    "    def _select_features_for_fold(\n",
    "            self,\n",
    "            fold: int,\n",
    "            num_features: int,\n",
    "            steps: int,\n",
    "            algo: EFeaturesSelectionAlgorithm = EFeaturesSelectionAlgorithm.RecursiveByLossFunctionChange) -> t.Set[str]:\n",
    "        train_df, valid_df = all_df[all_df['fold'] != fold], all_df[all_df['fold'] == fold]\n",
    "        train_x, train_y, feature_name_list = self._convert_df_to_xy(train_df)\n",
    "        valid_x, valid_y, _ = self._convert_df_to_xy(valid_df)\n",
    "\n",
    "        booster = self._get_model()\n",
    "        summary = booster.select_features(\n",
    "            train_x,\n",
    "            train_y,\n",
    "            eval_set=(valid_x, valid_y),\n",
    "            features_for_select=list(range(len(feature_name_list))),\n",
    "            num_features_to_select=num_features,\n",
    "            steps=steps,\n",
    "            algorithm=algo,\n",
    "            logging_level='Silent',\n",
    "            plot=self._plot)\n",
    "\n",
    "        return {feature_name_list[i] for i in summary['selected_features']}\n",
    "\n",
    "    def select_features_for_fold(\n",
    "            self,\n",
    "            fold: int,\n",
    "            num_features: int,\n",
    "            steps: int,\n",
    "            algo: EFeaturesSelectionAlgorithm = EFeaturesSelectionAlgorithm.RecursiveByLossFunctionChange):\n",
    "        self._explicit_feature_whitelist = self._select_features_for_fold(\n",
    "            fold=fold,\n",
    "            num_features=num_features,\n",
    "            steps=steps,\n",
    "            algo=algo)\n",
    "\n",
    "    def __call__(self, fold: int) -> t.Tuple[float, PredDict]:\n",
    "        train_df, valid_df = all_df[all_df['fold'] != fold], all_df[all_df['fold'] == fold]\n",
    "        train_x, train_y, feature_name_list = self._convert_df_to_xy(train_df)\n",
    "        valid_x, valid_y, _ = self._convert_df_to_xy(valid_df)\n",
    "\n",
    "        booster = self._get_model()\n",
    "        booster.fit(\n",
    "            X=train_x,\n",
    "            y=train_y,\n",
    "            eval_set=(valid_x, valid_y),\n",
    "            plot=self._plot,\n",
    "            logging_level='Silent',)\n",
    "        valid_y_pred = booster.predict(valid_x)\n",
    "\n",
    "        if self._model_path_template is not None:\n",
    "            booster.save_model(str(format_path(self._model_path_template, fold=fold)))\n",
    "\n",
    "        score = math.sqrt(mean_squared_error(y_true=valid_y, y_pred=valid_y_pred))\n",
    "\n",
    "        return score, PredDict(zip(valid_df['text_id'].tolist(), [ensure_list(x) for x in valid_y_pred.tolist()]))\n",
    "\n",
    "\n",
    "# class _CatboostFeatureSelector:\n",
    "\n",
    "#     def __init__(self, trainer: _CatboostTrainer, num_features: int, num_steps: int):\n",
    "#         self._trainer = trainer\n",
    "#         self._num_features = num_features\n",
    "#         self._num_steps = num_steps\n",
    "\n",
    "#     def __call__(self, fold: int) -> t.Tuple[float, PredDict]:\n",
    "#         self._trainer.select_features_for_fold(fold=fold, num_features=self._num_features, steps=self._num_steps)\n",
    "#         return self._trainer(fold)\n",
    "\n",
    "\n",
    "class _CohesionCatboostTrainer(_CatboostTrainer):\n",
    "    target = 'cohesion'\n",
    "\n",
    "    FS_FOLD = 0\n",
    "    FS_NUM_FEATURES = 20\n",
    "    FS_STEPS = 3\n",
    "\n",
    "    # def _is_feature_included(self, feature_name: str) -> bool:\n",
    "    #     return super()._is_feature_included(feature_name) and not feature_name.endswith('_l1')\n",
    "\n",
    "    def _get_model(self) -> CatBoostRegressor:\n",
    "        return CatBoostRegressor(\n",
    "            task_type='GPU',\n",
    "            random_seed=SEED,\n",
    "            loss_function='RMSE',\n",
    "            l2_leaf_reg=12.0,\n",
    "        )\n",
    "\n",
    "\n",
    "class _SyntaxCatboostTrainer(_CatboostTrainer):\n",
    "    target = 'syntax'\n",
    "\n",
    "    def _get_model(self) -> CatBoostRegressor:\n",
    "        return CatBoostRegressor(\n",
    "            task_type='GPU',\n",
    "            random_seed=SEED,\n",
    "            loss_function='RMSE',\n",
    "            max_depth=7)\n",
    "\n",
    "\n",
    "class _VocabularyCatboostTrainer(_CatboostTrainer):\n",
    "    target = 'vocabulary'\n",
    "\n",
    "    FS_FOLD = 0\n",
    "    FS_NUM_FEATURES = 18\n",
    "    FS_STEPS = 1\n",
    "\n",
    "    def _get_model(self) -> CatBoostRegressor:\n",
    "        return CatBoostRegressor(\n",
    "            task_type='GPU',\n",
    "            random_seed=SEED,\n",
    "            loss_function='RMSE',\n",
    "            l2_leaf_reg=12.0,\n",
    "        )\n",
    "\n",
    "\n",
    "class _GrammarCatboostTrainer(_CatboostTrainer):\n",
    "    target = 'grammar'\n",
    "\n",
    "    FS_FOLD = 0\n",
    "    FS_NUM_FEATURES = 23\n",
    "    FS_STEPS = 3\n",
    "\n",
    "    def _get_model(self) -> CatBoostRegressor:\n",
    "        return CatBoostRegressor(\n",
    "            task_type='GPU',\n",
    "            random_seed=SEED,\n",
    "            loss_function='RMSE',\n",
    "            l2_leaf_reg=12.0,\n",
    "        )\n",
    "\n",
    "\n",
    "class _PhraseologyCatboostTrainer(_CatboostTrainer):\n",
    "    \"\"\"\n",
    "    No improvement.\n",
    "    \"\"\"\n",
    "    target = 'phraseology'\n",
    "\n",
    "    FS_FOLD = 1\n",
    "    FS_NUM_FEATURES = 21\n",
    "    FS_STEPS = 3\n",
    "\n",
    "    def _is_feature_included(self, feature_name: str) -> bool:\n",
    "        return super()._is_feature_included(feature_name)\n",
    "\n",
    "    def _get_model(self) -> CatBoostRegressor:\n",
    "        return CatBoostRegressor(\n",
    "            task_type='GPU',\n",
    "            random_seed=SEED,\n",
    "            loss_function='RMSE',\n",
    "            l2_leaf_reg=15.0)\n",
    "\n",
    "\n",
    "class _ConventionsCatboostTrainer(_CatboostTrainer):\n",
    "    \"\"\"\n",
    "    No improvement.\n",
    "    \"\"\"\n",
    "    target = 'conventions'\n",
    "\n",
    "    FS_FOLD = 2\n",
    "    FS_NUM_FEATURES = 20\n",
    "    FS_STEPS = 3\n",
    "\n",
    "    def _get_model(self) -> CatBoostRegressor:\n",
    "        return CatBoostRegressor(\n",
    "            task_type='GPU',\n",
    "            random_seed=SEED,\n",
    "            loss_function='RMSE',\n",
    "            l2_leaf_reg=16.0,\n",
    "        )\n",
    "\n",
    "\n",
    "trainer = _CohesionCatboostTrainer(model_path_template=MODEL_DIR / 'lvl2-catboost-cohesion-cv1-fold_{fold}.cbm')\n",
    "trainer.select_features_for_fold(fold=trainer.FS_FOLD, num_features=trainer.FS_NUM_FEATURES, steps=trainer.FS_STEPS)\n",
    "score_list, oof_pred_dict= train_kfold_model(\n",
    "        train_model_fn=trainer,\n",
    "        fold_list=FOLD_LIST)\n",
    "oof_pred_dict.save_to_csv(\n",
    "    OOF_DIR / f'lvl2-catboost-{trainer.target}-cv1.csv',\n",
    "    score_col_name_list=[f'{trainer.target}_score'])\n",
    "print(f'Mean score: {statistics.mean(score_list):.4f}')\n",
    "print(f'Features: {trainer.explicit_feature_whitelist}')\n",
    "build_fold_result_df(fold_list=FOLD_LIST, score_list=score_list)"
   ]
  }
 ],
 "metadata": {
  "kernelspec": {
   "display_name": "Python 3.10.8 ('kaggle-fp-ell')",
   "language": "python",
   "name": "python3"
  },
  "language_info": {
   "codemirror_mode": {
    "name": "ipython",
    "version": 3
   },
   "file_extension": ".py",
   "mimetype": "text/x-python",
   "name": "python",
   "nbconvert_exporter": "python",
   "pygments_lexer": "ipython3",
   "version": "3.10.8"
  },
  "orig_nbformat": 4,
  "vscode": {
   "interpreter": {
    "hash": "4646e3fde12bd3179c3551877f577659b7a8fa6d1b23b85720655ff3fa8cde14"
   }
  }
 },
 "nbformat": 4,
 "nbformat_minor": 2
}
